{
 "cells": [
  {
   "cell_type": "code",
   "execution_count": 1,
   "id": "6af61ccd",
   "metadata": {},
   "outputs": [],
   "source": [
    "import numpy as np\n",
    "import pandas as pd"
   ]
  },
  {
   "cell_type": "code",
   "execution_count": 2,
   "id": "a5d3b954",
   "metadata": {},
   "outputs": [],
   "source": [
    "df = pd.read_csv('https://raw.githubusercontent.com/AnubhaT-code/covid-19-data/master/public/data/vaccinations/us_state_vaccinations.csv')"
   ]
  },
  {
   "cell_type": "code",
   "execution_count": 3,
   "id": "050237bb",
   "metadata": {},
   "outputs": [
    {
     "data": {
      "text/plain": [
       "(27236, 16)"
      ]
     },
     "execution_count": 3,
     "metadata": {},
     "output_type": "execute_result"
    }
   ],
   "source": [
    "df.shape"
   ]
  },
  {
   "cell_type": "code",
   "execution_count": 4,
   "id": "65e7cfc8",
   "metadata": {},
   "outputs": [
    {
     "data": {
      "text/plain": [
       "Index(['date', 'location', 'total_vaccinations', 'total_distributed',\n",
       "       'people_vaccinated', 'people_fully_vaccinated_per_hundred',\n",
       "       'total_vaccinations_per_hundred', 'people_fully_vaccinated',\n",
       "       'people_vaccinated_per_hundred', 'distributed_per_hundred',\n",
       "       'daily_vaccinations_raw', 'daily_vaccinations',\n",
       "       'daily_vaccinations_per_million', 'share_doses_used', 'total_boosters',\n",
       "       'total_boosters_per_hundred'],\n",
       "      dtype='object')"
      ]
     },
     "execution_count": 4,
     "metadata": {},
     "output_type": "execute_result"
    }
   ],
   "source": [
    "df.columns"
   ]
  },
  {
   "cell_type": "code",
   "execution_count": 5,
   "id": "a48afe7d",
   "metadata": {},
   "outputs": [
    {
     "data": {
      "text/plain": [
       "date                                    object\n",
       "location                                object\n",
       "total_vaccinations                     float64\n",
       "total_distributed                      float64\n",
       "people_vaccinated                      float64\n",
       "people_fully_vaccinated_per_hundred    float64\n",
       "total_vaccinations_per_hundred         float64\n",
       "people_fully_vaccinated                float64\n",
       "people_vaccinated_per_hundred          float64\n",
       "distributed_per_hundred                float64\n",
       "daily_vaccinations_raw                 float64\n",
       "daily_vaccinations                     float64\n",
       "daily_vaccinations_per_million         float64\n",
       "share_doses_used                       float64\n",
       "total_boosters                         float64\n",
       "total_boosters_per_hundred             float64\n",
       "dtype: object"
      ]
     },
     "execution_count": 5,
     "metadata": {},
     "output_type": "execute_result"
    }
   ],
   "source": [
    "df.dtypes"
   ]
  },
  {
   "cell_type": "code",
   "execution_count": 6,
   "id": "671b1c78",
   "metadata": {},
   "outputs": [
    {
     "data": {
      "text/plain": [
       "date                                       0\n",
       "location                                   0\n",
       "total_vaccinations                      2576\n",
       "total_distributed                       2836\n",
       "people_vaccinated                       2840\n",
       "people_fully_vaccinated_per_hundred     4114\n",
       "total_vaccinations_per_hundred          4015\n",
       "people_fully_vaccinated                 2920\n",
       "people_vaccinated_per_hundred           4039\n",
       "distributed_per_hundred                 4035\n",
       "daily_vaccinations_raw                  3592\n",
       "daily_vaccinations                        65\n",
       "daily_vaccinations_per_million          1628\n",
       "share_doses_used                        2836\n",
       "total_boosters                         19742\n",
       "total_boosters_per_hundred             20108\n",
       "dtype: int64"
      ]
     },
     "execution_count": 6,
     "metadata": {},
     "output_type": "execute_result"
    }
   ],
   "source": [
    "df.isnull().sum()"
   ]
  },
  {
   "cell_type": "code",
   "execution_count": 7,
   "id": "def0aa1f",
   "metadata": {},
   "outputs": [],
   "source": [
    "df = df.replace(np.nan,0)"
   ]
  },
  {
   "cell_type": "code",
   "execution_count": 8,
   "id": "64195aa3",
   "metadata": {},
   "outputs": [
    {
     "data": {
      "text/plain": [
       "date                                   0\n",
       "location                               0\n",
       "total_vaccinations                     0\n",
       "total_distributed                      0\n",
       "people_vaccinated                      0\n",
       "people_fully_vaccinated_per_hundred    0\n",
       "total_vaccinations_per_hundred         0\n",
       "people_fully_vaccinated                0\n",
       "people_vaccinated_per_hundred          0\n",
       "distributed_per_hundred                0\n",
       "daily_vaccinations_raw                 0\n",
       "daily_vaccinations                     0\n",
       "daily_vaccinations_per_million         0\n",
       "share_doses_used                       0\n",
       "total_boosters                         0\n",
       "total_boosters_per_hundred             0\n",
       "dtype: int64"
      ]
     },
     "execution_count": 8,
     "metadata": {},
     "output_type": "execute_result"
    }
   ],
   "source": [
    "df.isnull().sum()"
   ]
  },
  {
   "cell_type": "code",
   "execution_count": 9,
   "id": "752220b4",
   "metadata": {},
   "outputs": [],
   "source": [
    "myvar = pd.Series(df['date'])"
   ]
  },
  {
   "cell_type": "code",
   "execution_count": 10,
   "id": "d562913f",
   "metadata": {},
   "outputs": [],
   "source": [
    "countries = []"
   ]
  },
  {
   "cell_type": "code",
   "execution_count": 11,
   "id": "e689d186",
   "metadata": {},
   "outputs": [],
   "source": [
    "vaccinesGot = []"
   ]
  },
  {
   "cell_type": "code",
   "execution_count": 12,
   "id": "4116f65b",
   "metadata": {},
   "outputs": [],
   "source": [
    "peopleVaccinated = []"
   ]
  },
  {
   "cell_type": "code",
   "execution_count": 13,
   "id": "bc491911",
   "metadata": {},
   "outputs": [],
   "source": [
    "f = 0\n",
    "for x in myvar:\n",
    "    if x == '2022-03-08':\n",
    "        countries.append(df['location'].values[f])\n",
    "        vaccinesGot.append(df['total_vaccinations'].values[f])\n",
    "        peopleVaccinated.append(df['people_vaccinated'].values[f])\n",
    "    f = f+1"
   ]
  },
  {
   "cell_type": "code",
   "execution_count": 14,
   "id": "7f21210c",
   "metadata": {},
   "outputs": [
    {
     "name": "stdout",
     "output_type": "stream",
     "text": [
      "['Alabama', 'Alaska', 'American Samoa', 'Arizona', 'Arkansas', 'Bureau of Prisons', 'California', 'Colorado', 'Connecticut', 'Delaware', 'Dept of Defense', 'District of Columbia', 'Federated States of Micronesia', 'Florida', 'Georgia', 'Guam', 'Hawaii', 'Idaho', 'Illinois', 'Indian Health Svc', 'Indiana', 'Iowa', 'Kansas', 'Kentucky', 'Louisiana', 'Maine', 'Marshall Islands', 'Maryland', 'Massachusetts', 'Michigan', 'Minnesota', 'Mississippi', 'Missouri', 'Montana', 'Nebraska', 'Nevada', 'New Hampshire', 'New Jersey', 'New Mexico', 'New York State', 'North Carolina', 'North Dakota', 'Northern Mariana Islands', 'Ohio', 'Oklahoma', 'Oregon', 'Pennsylvania', 'Puerto Rico', 'Republic of Palau', 'Rhode Island', 'South Carolina', 'South Dakota', 'Tennessee', 'Texas', 'United States', 'Utah', 'Vermont', 'Veterans Health', 'Virgin Islands', 'Virginia', 'Washington', 'West Virginia', 'Wisconsin', 'Wyoming']\n"
     ]
    }
   ],
   "source": [
    "print(countries)"
   ]
  },
  {
   "cell_type": "code",
   "execution_count": 15,
   "id": "64321544",
   "metadata": {},
   "outputs": [
    {
     "name": "stdout",
     "output_type": "stream",
     "text": [
      "[6117662.0, 1104845.0, 92238.0, 11603719.0, 4102632.0, 304819.0, 71889489.0, 10357771.0, 7322039.0, 1740978.0, 7274082.0, 1427380.0, 108791.0, 36251123.0, 14425571.0, 334627.0, 2816602.0, 2374923.0, 21869915.0, 2176249.0, 9235025.0, 4941050.0, 4461541.0, 6340727.0, 6076092.0, 2712242.0, 57430.0, 11567865.0, 14330116.0, 15352977.0, 9940704.0, 3775148.0, 8687181.0, 1539977.0, 3088453.0, 4730118.0, 2527526.0, 16644656.0, 3785361.0, 38017515.0, 16184512.0, 1065085.0, 106714.0, 17283669.0, 5740004.0, 7472879.0, 22164396.0, 6994023.0, 46730.0, 2139290.0, 7309834.0, 1360525.0, 9634533.0, 44629969.0, 555595418.0, 5073910.0, 1351579.0, 7226893.0, 140463.0, 15940304.0, 13914911.0, 2643630.0, 9901313.0, 733209.0]\n"
     ]
    }
   ],
   "source": [
    "print(vaccinesGot)"
   ]
  },
  {
   "cell_type": "code",
   "execution_count": 16,
   "id": "8cf314c0",
   "metadata": {},
   "outputs": [
    {
     "name": "stdout",
     "output_type": "stream",
     "text": [
      "[3040195.0, 503659.0, 43349.0, 5217347.0, 1987553.0, 142363.0, 32389814.0, 4521309.0, 3356433.0, 798192.0, 4112043.0, 674852.0, 61086.0, 16803838.0, 6851465.0, 150579.0, 1225012.0, 1080081.0, 9654393.0, 1080040.0, 4093128.0, 2125853.0, 2146307.0, 2923345.0, 2801471.0, 1201125.0, 29945.0, 5146677.0, 6660289.0, 6628386.0, 4199197.0, 1753435.0, 4019425.0, 690373.0, 1343600.0, 2285956.0, 1364372.0, 7927582.0, 1807881.0, 17347455.0, 8657010.0, 491649.0, 45195.0, 7363206.0, 2775305.0, 3251693.0, 10692347.0, 3052185.0, 20284.0, 1024402.0, 3438085.0, 664526.0, 4197899.0, 20697081.0, 254205456.0, 2284841.0, 579675.0, 3410015.0, 67738.0, 7225917.0, 6086345.0, 1152545.0, 4144572.0, 336288.0]\n"
     ]
    }
   ],
   "source": [
    "print(peopleVaccinated)"
   ]
  },
  {
   "cell_type": "code",
   "execution_count": 17,
   "id": "83739048",
   "metadata": {},
   "outputs": [
    {
     "data": {
      "text/plain": [
       "64"
      ]
     },
     "execution_count": 17,
     "metadata": {},
     "output_type": "execute_result"
    }
   ],
   "source": [
    "l = len(countries)\n",
    "l"
   ]
  },
  {
   "cell_type": "code",
   "execution_count": 18,
   "id": "d3eead07",
   "metadata": {},
   "outputs": [],
   "source": [
    "redStates = ['Alabama','Alaska','Arkansas','Florida','Idaho','Indiana','Iowa','Kansas','Kentucky','Louisiana','Mississippi','Missouri','Montana','Nebraska','North Carolina','North Dakota','Ohio','Oklahoma','South Carolina','South Dakota','Tennessee','Texas','Utah','West Virginia','Wyoming']"
   ]
  },
  {
   "cell_type": "code",
   "execution_count": 19,
   "id": "681a3fd8",
   "metadata": {},
   "outputs": [
    {
     "data": {
      "text/plain": [
       "25"
      ]
     },
     "execution_count": 19,
     "metadata": {},
     "output_type": "execute_result"
    }
   ],
   "source": [
    "len(redStates)"
   ]
  },
  {
   "cell_type": "code",
   "execution_count": 20,
   "id": "82295cfa",
   "metadata": {},
   "outputs": [],
   "source": [
    "blueStates = ['Arizona','California','Colorado','Connecticut','Delaware','Georgia','Hawaii','Illinois','Maine','Maryland','Massachusetts','Michigan','Minnesota','Nevada','New Hampshire','New Jersey','New Mexico','New York State','Oregon','Pennsylvania','Rhode Island','Vermont','Virginia','Washington','Wisconsin']"
   ]
  },
  {
   "cell_type": "code",
   "execution_count": 21,
   "id": "74aecc31",
   "metadata": {
    "scrolled": true
   },
   "outputs": [
    {
     "data": {
      "text/plain": [
       "25"
      ]
     },
     "execution_count": 21,
     "metadata": {},
     "output_type": "execute_result"
    }
   ],
   "source": [
    "len(blueStates)"
   ]
  },
  {
   "cell_type": "code",
   "execution_count": 22,
   "id": "2f73fc54",
   "metadata": {},
   "outputs": [],
   "source": [
    "redVG = 0"
   ]
  },
  {
   "cell_type": "code",
   "execution_count": 23,
   "id": "c936780c",
   "metadata": {},
   "outputs": [],
   "source": [
    "blueVG = 0"
   ]
  },
  {
   "cell_type": "code",
   "execution_count": 24,
   "id": "234cedd0",
   "metadata": {},
   "outputs": [],
   "source": [
    "redPV = 0"
   ]
  },
  {
   "cell_type": "code",
   "execution_count": 25,
   "id": "0c0d625a",
   "metadata": {},
   "outputs": [],
   "source": [
    "bluePV = 0"
   ]
  },
  {
   "cell_type": "code",
   "execution_count": 26,
   "id": "45877d06",
   "metadata": {},
   "outputs": [],
   "source": [
    "for i in range(0,24):\n",
    "    redpos = countries.index(redStates[i])\n",
    "    bluepos = countries.index(blueStates[i])\n",
    "    redVG = redVG + vaccinesGot[redpos]\n",
    "    blueVG = blueVG + vaccinesGot[bluepos]\n",
    "    redPV = redPV + peopleVaccinated[redpos]\n",
    "    bluePV = bluePV + peopleVaccinated[bluepos]"
   ]
  },
  {
   "cell_type": "code",
   "execution_count": 27,
   "id": "eb0d7064",
   "metadata": {},
   "outputs": [
    {
     "name": "stdout",
     "output_type": "stream",
     "text": [
      "209022050.0\n"
     ]
    }
   ],
   "source": [
    "print(redVG)"
   ]
  },
  {
   "cell_type": "code",
   "execution_count": 28,
   "id": "d267ae6b",
   "metadata": {},
   "outputs": [
    {
     "name": "stdout",
     "output_type": "stream",
     "text": [
      "324618523.0\n"
     ]
    }
   ],
   "source": [
    "print(blueVG)"
   ]
  },
  {
   "cell_type": "code",
   "execution_count": 29,
   "id": "dde05b10",
   "metadata": {},
   "outputs": [
    {
     "name": "stdout",
     "output_type": "stream",
     "text": [
      "97034410.0\n"
     ]
    }
   ],
   "source": [
    "print(redPV)"
   ]
  },
  {
   "cell_type": "code",
   "execution_count": 30,
   "id": "ce8735ff",
   "metadata": {},
   "outputs": [
    {
     "name": "stdout",
     "output_type": "stream",
     "text": [
      "147443264.0\n"
     ]
    }
   ],
   "source": [
    "print(bluePV)"
   ]
  },
  {
   "cell_type": "code",
   "execution_count": 31,
   "id": "63dbf155",
   "metadata": {},
   "outputs": [
    {
     "name": "stdout",
     "output_type": "stream",
     "text": [
      "115596473.0\n"
     ]
    }
   ],
   "source": [
    "print(blueVG-redVG)"
   ]
  },
  {
   "cell_type": "code",
   "execution_count": 32,
   "id": "04e393f4",
   "metadata": {},
   "outputs": [
    {
     "name": "stdout",
     "output_type": "stream",
     "text": [
      "50408854.0\n"
     ]
    }
   ],
   "source": [
    "print(bluePV-redPV)"
   ]
  },
  {
   "cell_type": "code",
   "execution_count": null,
   "id": "fb8bf14a",
   "metadata": {},
   "outputs": [],
   "source": []
  }
 ],
 "metadata": {
  "kernelspec": {
   "display_name": "Python 3 (ipykernel)",
   "language": "python",
   "name": "python3"
  },
  "language_info": {
   "codemirror_mode": {
    "name": "ipython",
    "version": 3
   },
   "file_extension": ".py",
   "mimetype": "text/x-python",
   "name": "python",
   "nbconvert_exporter": "python",
   "pygments_lexer": "ipython3",
   "version": "3.9.7"
  }
 },
 "nbformat": 4,
 "nbformat_minor": 5
}
