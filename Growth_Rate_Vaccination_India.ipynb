{
 "cells": [
  {
   "cell_type": "code",
   "execution_count": 1,
   "id": "f562510e",
   "metadata": {},
   "outputs": [],
   "source": [
    "### Import the required packages\n",
    "import numpy as np\n",
    "import pandas as pd\n",
    "import seaborn as sns\n",
    "%matplotlib inline\n",
    "from matplotlib import pyplot as plt\n",
    "from sklearn.linear_model import LogisticRegression\n",
    "from sklearn.model_selection import train_test_split"
   ]
  },
  {
   "cell_type": "code",
   "execution_count": 2,
   "id": "252f0a14",
   "metadata": {},
   "outputs": [],
   "source": [
    "df=pd.read_csv(\"https://raw.githubusercontent.com/owid/covid-19-data/master/public/data/vaccinations/country_data/India.csv\")"
   ]
  },
  {
   "cell_type": "code",
   "execution_count": 3,
   "id": "d937fdba",
   "metadata": {},
   "outputs": [
    {
     "data": {
      "text/html": [
       "<div>\n",
       "<style scoped>\n",
       "    .dataframe tbody tr th:only-of-type {\n",
       "        vertical-align: middle;\n",
       "    }\n",
       "\n",
       "    .dataframe tbody tr th {\n",
       "        vertical-align: top;\n",
       "    }\n",
       "\n",
       "    .dataframe thead th {\n",
       "        text-align: right;\n",
       "    }\n",
       "</style>\n",
       "<table border=\"1\" class=\"dataframe\">\n",
       "  <thead>\n",
       "    <tr style=\"text-align: right;\">\n",
       "      <th></th>\n",
       "      <th>location</th>\n",
       "      <th>date</th>\n",
       "      <th>vaccine</th>\n",
       "      <th>source_url</th>\n",
       "      <th>total_vaccinations</th>\n",
       "      <th>people_vaccinated</th>\n",
       "      <th>people_fully_vaccinated</th>\n",
       "      <th>total_boosters</th>\n",
       "    </tr>\n",
       "  </thead>\n",
       "  <tbody>\n",
       "    <tr>\n",
       "      <th>0</th>\n",
       "      <td>India</td>\n",
       "      <td>2021-01-15</td>\n",
       "      <td>Covaxin, Oxford/AstraZeneca</td>\n",
       "      <td>https://twitter.com/MoHFW_INDIA/status/1350459...</td>\n",
       "      <td>0</td>\n",
       "      <td>0</td>\n",
       "      <td>0</td>\n",
       "      <td>NaN</td>\n",
       "    </tr>\n",
       "    <tr>\n",
       "      <th>1</th>\n",
       "      <td>India</td>\n",
       "      <td>2021-01-16</td>\n",
       "      <td>Covaxin, Oxford/AstraZeneca</td>\n",
       "      <td>https://twitter.com/MoHFW_INDIA/status/1350459...</td>\n",
       "      <td>191181</td>\n",
       "      <td>191181</td>\n",
       "      <td>0</td>\n",
       "      <td>NaN</td>\n",
       "    </tr>\n",
       "    <tr>\n",
       "      <th>2</th>\n",
       "      <td>India</td>\n",
       "      <td>2021-01-17</td>\n",
       "      <td>Covaxin, Oxford/AstraZeneca</td>\n",
       "      <td>https://twitter.com/MoHFW_INDIA/status/1350815...</td>\n",
       "      <td>224301</td>\n",
       "      <td>224301</td>\n",
       "      <td>0</td>\n",
       "      <td>NaN</td>\n",
       "    </tr>\n",
       "    <tr>\n",
       "      <th>3</th>\n",
       "      <td>India</td>\n",
       "      <td>2021-01-18</td>\n",
       "      <td>Covaxin, Oxford/AstraZeneca</td>\n",
       "      <td>https://www.mohfw.gov.in/</td>\n",
       "      <td>454049</td>\n",
       "      <td>454049</td>\n",
       "      <td>0</td>\n",
       "      <td>NaN</td>\n",
       "    </tr>\n",
       "    <tr>\n",
       "      <th>4</th>\n",
       "      <td>India</td>\n",
       "      <td>2021-01-19</td>\n",
       "      <td>Covaxin, Oxford/AstraZeneca</td>\n",
       "      <td>https://www.mohfw.gov.in/</td>\n",
       "      <td>674835</td>\n",
       "      <td>674835</td>\n",
       "      <td>0</td>\n",
       "      <td>NaN</td>\n",
       "    </tr>\n",
       "  </tbody>\n",
       "</table>\n",
       "</div>"
      ],
      "text/plain": [
       "  location        date                      vaccine  \\\n",
       "0    India  2021-01-15  Covaxin, Oxford/AstraZeneca   \n",
       "1    India  2021-01-16  Covaxin, Oxford/AstraZeneca   \n",
       "2    India  2021-01-17  Covaxin, Oxford/AstraZeneca   \n",
       "3    India  2021-01-18  Covaxin, Oxford/AstraZeneca   \n",
       "4    India  2021-01-19  Covaxin, Oxford/AstraZeneca   \n",
       "\n",
       "                                          source_url  total_vaccinations  \\\n",
       "0  https://twitter.com/MoHFW_INDIA/status/1350459...                   0   \n",
       "1  https://twitter.com/MoHFW_INDIA/status/1350459...              191181   \n",
       "2  https://twitter.com/MoHFW_INDIA/status/1350815...              224301   \n",
       "3                          https://www.mohfw.gov.in/              454049   \n",
       "4                          https://www.mohfw.gov.in/              674835   \n",
       "\n",
       "   people_vaccinated  people_fully_vaccinated  total_boosters  \n",
       "0                  0                        0             NaN  \n",
       "1             191181                        0             NaN  \n",
       "2             224301                        0             NaN  \n",
       "3             454049                        0             NaN  \n",
       "4             674835                        0             NaN  "
      ]
     },
     "execution_count": 3,
     "metadata": {},
     "output_type": "execute_result"
    }
   ],
   "source": [
    "df.head()"
   ]
  },
  {
   "cell_type": "code",
   "execution_count": 4,
   "id": "cd0ddf4c",
   "metadata": {},
   "outputs": [
    {
     "data": {
      "text/plain": [
       "(410, 8)"
      ]
     },
     "execution_count": 4,
     "metadata": {},
     "output_type": "execute_result"
    }
   ],
   "source": [
    "df.shape"
   ]
  },
  {
   "cell_type": "code",
   "execution_count": 5,
   "id": "6c7a03f8",
   "metadata": {},
   "outputs": [
    {
     "name": "stdout",
     "output_type": "stream",
     "text": [
      "<class 'pandas.core.frame.DataFrame'>\n",
      "RangeIndex: 410 entries, 0 to 409\n",
      "Data columns (total 8 columns):\n",
      " #   Column                   Non-Null Count  Dtype  \n",
      "---  ------                   --------------  -----  \n",
      " 0   location                 410 non-null    object \n",
      " 1   date                     410 non-null    object \n",
      " 2   vaccine                  410 non-null    object \n",
      " 3   source_url               410 non-null    object \n",
      " 4   total_vaccinations       410 non-null    int64  \n",
      " 5   people_vaccinated        410 non-null    int64  \n",
      " 6   people_fully_vaccinated  410 non-null    int64  \n",
      " 7   total_boosters           57 non-null     float64\n",
      "dtypes: float64(1), int64(3), object(4)\n",
      "memory usage: 25.8+ KB\n"
     ]
    }
   ],
   "source": [
    "df.info()"
   ]
  },
  {
   "cell_type": "code",
   "execution_count": 6,
   "id": "db4fcb17",
   "metadata": {},
   "outputs": [
    {
     "data": {
      "text/plain": [
       "location                     0\n",
       "date                         0\n",
       "vaccine                      0\n",
       "source_url                   0\n",
       "total_vaccinations           0\n",
       "people_vaccinated            0\n",
       "people_fully_vaccinated      0\n",
       "total_boosters             353\n",
       "dtype: int64"
      ]
     },
     "execution_count": 6,
     "metadata": {},
     "output_type": "execute_result"
    }
   ],
   "source": [
    "df.isnull().sum()"
   ]
  },
  {
   "cell_type": "code",
   "execution_count": 7,
   "id": "b4b268e4",
   "metadata": {},
   "outputs": [
    {
     "data": {
      "text/plain": [
       "location                    object\n",
       "date                        object\n",
       "vaccine                     object\n",
       "source_url                  object\n",
       "total_vaccinations           int64\n",
       "people_vaccinated            int64\n",
       "people_fully_vaccinated      int64\n",
       "total_boosters             float64\n",
       "dtype: object"
      ]
     },
     "execution_count": 7,
     "metadata": {},
     "output_type": "execute_result"
    }
   ],
   "source": [
    "df.dtypes"
   ]
  },
  {
   "cell_type": "code",
   "execution_count": 8,
   "id": "0be4c45a",
   "metadata": {},
   "outputs": [
    {
     "data": {
      "text/html": [
       "<div>\n",
       "<style scoped>\n",
       "    .dataframe tbody tr th:only-of-type {\n",
       "        vertical-align: middle;\n",
       "    }\n",
       "\n",
       "    .dataframe tbody tr th {\n",
       "        vertical-align: top;\n",
       "    }\n",
       "\n",
       "    .dataframe thead th {\n",
       "        text-align: right;\n",
       "    }\n",
       "</style>\n",
       "<table border=\"1\" class=\"dataframe\">\n",
       "  <thead>\n",
       "    <tr style=\"text-align: right;\">\n",
       "      <th></th>\n",
       "      <th>total_vaccinations</th>\n",
       "      <th>people_vaccinated</th>\n",
       "      <th>people_fully_vaccinated</th>\n",
       "      <th>total_boosters</th>\n",
       "    </tr>\n",
       "  </thead>\n",
       "  <tbody>\n",
       "    <tr>\n",
       "      <th>count</th>\n",
       "      <td>4.100000e+02</td>\n",
       "      <td>4.100000e+02</td>\n",
       "      <td>4.100000e+02</td>\n",
       "      <td>5.700000e+01</td>\n",
       "    </tr>\n",
       "    <tr>\n",
       "      <th>mean</th>\n",
       "      <td>7.091653e+08</td>\n",
       "      <td>4.592037e+08</td>\n",
       "      <td>2.479797e+08</td>\n",
       "      <td>1.410314e+07</td>\n",
       "    </tr>\n",
       "    <tr>\n",
       "      <th>std</th>\n",
       "      <td>6.039934e+08</td>\n",
       "      <td>3.451348e+08</td>\n",
       "      <td>2.653990e+08</td>\n",
       "      <td>5.166469e+06</td>\n",
       "    </tr>\n",
       "    <tr>\n",
       "      <th>min</th>\n",
       "      <td>0.000000e+00</td>\n",
       "      <td>0.000000e+00</td>\n",
       "      <td>0.000000e+00</td>\n",
       "      <td>3.294338e+06</td>\n",
       "    </tr>\n",
       "    <tr>\n",
       "      <th>25%</th>\n",
       "      <td>1.537726e+08</td>\n",
       "      <td>1.264228e+08</td>\n",
       "      <td>2.734986e+07</td>\n",
       "      <td>1.007174e+07</td>\n",
       "    </tr>\n",
       "    <tr>\n",
       "      <th>50%</th>\n",
       "      <td>5.643736e+08</td>\n",
       "      <td>4.394073e+08</td>\n",
       "      <td>1.249663e+08</td>\n",
       "      <td>1.592045e+07</td>\n",
       "    </tr>\n",
       "    <tr>\n",
       "      <th>75%</th>\n",
       "      <td>1.227168e+09</td>\n",
       "      <td>7.859285e+08</td>\n",
       "      <td>4.412392e+08</td>\n",
       "      <td>1.860569e+07</td>\n",
       "    </tr>\n",
       "    <tr>\n",
       "      <th>max</th>\n",
       "      <td>1.798217e+09</td>\n",
       "      <td>9.684542e+08</td>\n",
       "      <td>8.098619e+08</td>\n",
       "      <td>1.990147e+07</td>\n",
       "    </tr>\n",
       "  </tbody>\n",
       "</table>\n",
       "</div>"
      ],
      "text/plain": [
       "       total_vaccinations  people_vaccinated  people_fully_vaccinated  \\\n",
       "count        4.100000e+02       4.100000e+02             4.100000e+02   \n",
       "mean         7.091653e+08       4.592037e+08             2.479797e+08   \n",
       "std          6.039934e+08       3.451348e+08             2.653990e+08   \n",
       "min          0.000000e+00       0.000000e+00             0.000000e+00   \n",
       "25%          1.537726e+08       1.264228e+08             2.734986e+07   \n",
       "50%          5.643736e+08       4.394073e+08             1.249663e+08   \n",
       "75%          1.227168e+09       7.859285e+08             4.412392e+08   \n",
       "max          1.798217e+09       9.684542e+08             8.098619e+08   \n",
       "\n",
       "       total_boosters  \n",
       "count    5.700000e+01  \n",
       "mean     1.410314e+07  \n",
       "std      5.166469e+06  \n",
       "min      3.294338e+06  \n",
       "25%      1.007174e+07  \n",
       "50%      1.592045e+07  \n",
       "75%      1.860569e+07  \n",
       "max      1.990147e+07  "
      ]
     },
     "execution_count": 8,
     "metadata": {},
     "output_type": "execute_result"
    }
   ],
   "source": [
    "df.describe()"
   ]
  },
  {
   "cell_type": "code",
   "execution_count": 9,
   "id": "02900d35",
   "metadata": {},
   "outputs": [
    {
     "data": {
      "text/html": [
       "<div>\n",
       "<style scoped>\n",
       "    .dataframe tbody tr th:only-of-type {\n",
       "        vertical-align: middle;\n",
       "    }\n",
       "\n",
       "    .dataframe tbody tr th {\n",
       "        vertical-align: top;\n",
       "    }\n",
       "\n",
       "    .dataframe thead th {\n",
       "        text-align: right;\n",
       "    }\n",
       "</style>\n",
       "<table border=\"1\" class=\"dataframe\">\n",
       "  <thead>\n",
       "    <tr style=\"text-align: right;\">\n",
       "      <th></th>\n",
       "      <th>location</th>\n",
       "      <th>date</th>\n",
       "      <th>vaccine</th>\n",
       "      <th>source_url</th>\n",
       "      <th>total_vaccinations</th>\n",
       "      <th>people_vaccinated</th>\n",
       "      <th>people_fully_vaccinated</th>\n",
       "      <th>total_boosters</th>\n",
       "    </tr>\n",
       "  </thead>\n",
       "  <tbody>\n",
       "    <tr>\n",
       "      <th>0</th>\n",
       "      <td>India</td>\n",
       "      <td>2021-01-15</td>\n",
       "      <td>Covaxin, Oxford/AstraZeneca</td>\n",
       "      <td>https://twitter.com/MoHFW_INDIA/status/1350459...</td>\n",
       "      <td>0</td>\n",
       "      <td>0</td>\n",
       "      <td>0</td>\n",
       "      <td>0.0</td>\n",
       "    </tr>\n",
       "    <tr>\n",
       "      <th>1</th>\n",
       "      <td>India</td>\n",
       "      <td>2021-01-16</td>\n",
       "      <td>Covaxin, Oxford/AstraZeneca</td>\n",
       "      <td>https://twitter.com/MoHFW_INDIA/status/1350459...</td>\n",
       "      <td>191181</td>\n",
       "      <td>191181</td>\n",
       "      <td>0</td>\n",
       "      <td>0.0</td>\n",
       "    </tr>\n",
       "    <tr>\n",
       "      <th>2</th>\n",
       "      <td>India</td>\n",
       "      <td>2021-01-17</td>\n",
       "      <td>Covaxin, Oxford/AstraZeneca</td>\n",
       "      <td>https://twitter.com/MoHFW_INDIA/status/1350815...</td>\n",
       "      <td>224301</td>\n",
       "      <td>224301</td>\n",
       "      <td>0</td>\n",
       "      <td>0.0</td>\n",
       "    </tr>\n",
       "    <tr>\n",
       "      <th>3</th>\n",
       "      <td>India</td>\n",
       "      <td>2021-01-18</td>\n",
       "      <td>Covaxin, Oxford/AstraZeneca</td>\n",
       "      <td>https://www.mohfw.gov.in/</td>\n",
       "      <td>454049</td>\n",
       "      <td>454049</td>\n",
       "      <td>0</td>\n",
       "      <td>0.0</td>\n",
       "    </tr>\n",
       "    <tr>\n",
       "      <th>4</th>\n",
       "      <td>India</td>\n",
       "      <td>2021-01-19</td>\n",
       "      <td>Covaxin, Oxford/AstraZeneca</td>\n",
       "      <td>https://www.mohfw.gov.in/</td>\n",
       "      <td>674835</td>\n",
       "      <td>674835</td>\n",
       "      <td>0</td>\n",
       "      <td>0.0</td>\n",
       "    </tr>\n",
       "  </tbody>\n",
       "</table>\n",
       "</div>"
      ],
      "text/plain": [
       "  location        date                      vaccine  \\\n",
       "0    India  2021-01-15  Covaxin, Oxford/AstraZeneca   \n",
       "1    India  2021-01-16  Covaxin, Oxford/AstraZeneca   \n",
       "2    India  2021-01-17  Covaxin, Oxford/AstraZeneca   \n",
       "3    India  2021-01-18  Covaxin, Oxford/AstraZeneca   \n",
       "4    India  2021-01-19  Covaxin, Oxford/AstraZeneca   \n",
       "\n",
       "                                          source_url  total_vaccinations  \\\n",
       "0  https://twitter.com/MoHFW_INDIA/status/1350459...                   0   \n",
       "1  https://twitter.com/MoHFW_INDIA/status/1350459...              191181   \n",
       "2  https://twitter.com/MoHFW_INDIA/status/1350815...              224301   \n",
       "3                          https://www.mohfw.gov.in/              454049   \n",
       "4                          https://www.mohfw.gov.in/              674835   \n",
       "\n",
       "   people_vaccinated  people_fully_vaccinated  total_boosters  \n",
       "0                  0                        0             0.0  \n",
       "1             191181                        0             0.0  \n",
       "2             224301                        0             0.0  \n",
       "3             454049                        0             0.0  \n",
       "4             674835                        0             0.0  "
      ]
     },
     "execution_count": 9,
     "metadata": {},
     "output_type": "execute_result"
    }
   ],
   "source": [
    "df = df.replace(np.nan,0)\n",
    "df.head()"
   ]
  },
  {
   "cell_type": "code",
   "execution_count": 10,
   "id": "25754158",
   "metadata": {},
   "outputs": [
    {
     "data": {
      "text/plain": [
       "dtype('float64')"
      ]
     },
     "execution_count": 10,
     "metadata": {},
     "output_type": "execute_result"
    }
   ],
   "source": [
    "df['total_boosters'].dtypes"
   ]
  },
  {
   "cell_type": "code",
   "execution_count": 11,
   "id": "3dfb0047",
   "metadata": {},
   "outputs": [
    {
     "data": {
      "text/plain": [
       "location                   object\n",
       "date                       object\n",
       "vaccine                    object\n",
       "source_url                 object\n",
       "total_vaccinations          int64\n",
       "people_vaccinated           int64\n",
       "people_fully_vaccinated     int64\n",
       "total_boosters              int32\n",
       "dtype: object"
      ]
     },
     "execution_count": 11,
     "metadata": {},
     "output_type": "execute_result"
    }
   ],
   "source": [
    "pf = df['total_boosters']\n",
    "df['total_boosters'] = df['total_boosters'].astype(int)\n",
    "df.dtypes"
   ]
  },
  {
   "cell_type": "code",
   "execution_count": 12,
   "id": "cb724b6d",
   "metadata": {},
   "outputs": [
    {
     "data": {
      "text/plain": [
       "<AxesSubplot:xlabel='date', ylabel='people_vaccinated'>"
      ]
     },
     "execution_count": 12,
     "metadata": {},
     "output_type": "execute_result"
    },
    {
     "data": {
      "image/png": "[encoded data removed]",
      "text/plain": [
       "<Figure size 432x288 with 1 Axes>"
      ]
     },
     "metadata": {
      "needs_background": "light"
     },
     "output_type": "display_data"
    }
   ],
   "source": [
    "sns.boxplot(x=\"date\",y=\"people_vaccinated\",data=df)"
   ]
  },
  {
   "cell_type": "code",
   "execution_count": 13,
   "id": "438d28bc",
   "metadata": {},
   "outputs": [
    {
     "data": {
      "text/plain": [
       "410"
      ]
     },
     "execution_count": 13,
     "metadata": {},
     "output_type": "execute_result"
    }
   ],
   "source": [
    "l = len(df['people_vaccinated'])\n",
    "l"
   ]
  },
  {
   "cell_type": "code",
   "execution_count": 14,
   "id": "0fb3f0ba",
   "metadata": {},
   "outputs": [
    {
     "name": "stdout",
     "output_type": "stream",
     "text": [
      "[1, 2, 3, 4, 5, 6, 7, 8, 9, 10, 11, 12, 13, 14, 15, 16, 17, 18, 19, 20, 21, 22, 23, 24, 25, 26, 27, 28, 29, 30, 31, 32, 33, 34, 35, 36, 37, 38, 39, 40, 41, 42, 43, 44, 45, 46, 47, 48, 49, 50, 51, 52, 53, 54, 55, 56, 57, 58, 59, 60, 61, 62, 63, 64, 65, 66, 67, 68, 69, 70, 71, 72, 73, 74, 75, 76, 77, 78, 79, 80, 81, 82, 83, 84, 85, 86, 87, 88, 89, 90, 91, 92, 93, 94, 95, 96, 97, 98, 99, 100, 101, 102, 103, 104, 105, 106, 107, 108, 109, 110, 111, 112, 113, 114, 115, 116, 117, 118, 119, 120, 121, 122, 123, 124, 125, 126, 127, 128, 129, 130, 131, 132, 133, 134, 135, 136, 137, 138, 139, 140, 141, 142, 143, 144, 145, 146, 147, 148, 149, 150, 151, 152, 153, 154, 155, 156, 157, 158, 159, 160, 161, 162, 163, 164, 165, 166, 167, 168, 169, 170, 171, 172, 173, 174, 175, 176, 177, 178, 179, 180, 181, 182, 183, 184, 185, 186, 187, 188, 189, 190, 191, 192, 193, 194, 195, 196, 197, 198, 199, 200, 201, 202, 203, 204, 205, 206, 207, 208, 209, 210, 211, 212, 213, 214, 215, 216, 217, 218, 219, 220, 221, 222, 223, 224, 225, 226, 227, 228, 229, 230, 231, 232, 233, 234, 235, 236, 237, 238, 239, 240, 241, 242, 243, 244, 245, 246, 247, 248, 249, 250, 251, 252, 253, 254, 255, 256, 257, 258, 259, 260, 261, 262, 263, 264, 265, 266, 267, 268, 269, 270, 271, 272, 273, 274, 275, 276, 277, 278, 279, 280, 281, 282, 283, 284, 285, 286, 287, 288, 289, 290, 291, 292, 293, 294, 295, 296, 297, 298, 299, 300, 301, 302, 303, 304, 305, 306, 307, 308, 309, 310, 311, 312, 313, 314, 315, 316, 317, 318, 319, 320, 321, 322, 323, 324, 325, 326, 327, 328, 329, 330, 331, 332, 333, 334, 335, 336, 337, 338, 339, 340, 341, 342, 343, 344, 345, 346, 347, 348, 349, 350, 351, 352, 353, 354, 355, 356, 357, 358, 359, 360, 361, 362, 363, 364, 365, 366, 367, 368, 369, 370, 371, 372, 373, 374, 375, 376, 377, 378, 379, 380, 381, 382, 383, 384, 385, 386, 387, 388, 389, 390, 391, 392, 393, 394, 395, 396, 397, 398, 399, 400, 401, 402, 403, 404, 405, 406, 407, 408, 409, 410]\n"
     ]
    }
   ],
   "source": [
    "equispacedArray = []\n",
    "for i in range(1, l+1):\n",
    "    equispacedArray.append(i)\n",
    "    \n",
    "print(equispacedArray)"
   ]
  },
  {
   "cell_type": "code",
   "execution_count": null,
   "id": "c1a3b14c",
   "metadata": {},
   "outputs": [],
   "source": []
  },
  {
   "cell_type": "code",
   "execution_count": 15,
   "id": "52978518",
   "metadata": {},
   "outputs": [],
   "source": [
    "from statistics import mean"
   ]
  },
  {
   "cell_type": "code",
   "execution_count": 16,
   "id": "7aa296d8",
   "metadata": {},
   "outputs": [],
   "source": [
    "xs = np.array(equispacedArray, dtype=np.float64)\n",
    "ys = np.array(df['people_vaccinated'], dtype=np.float64)\n"
   ]
  },
  {
   "cell_type": "code",
   "execution_count": 17,
   "id": "8dfdf55d",
   "metadata": {},
   "outputs": [
    {
     "name": "stdout",
     "output_type": "stream",
     "text": [
      "2880090.086036931\n"
     ]
    }
   ],
   "source": [
    "def best_fit_slope(xs,ys):\n",
    "    m = (((mean(xs)*mean(ys)) - mean(xs*ys)) /\n",
    "         ((mean(xs)**2) - mean(xs**2)))\n",
    "    return m\n",
    "\n",
    "m = best_fit_slope(xs,ys)\n",
    "print(m)"
   ]
  },
  {
   "cell_type": "code",
   "execution_count": 18,
   "id": "7e9ae93d",
   "metadata": {},
   "outputs": [],
   "source": [
    "X=df.drop([\"location\",\"date\",\"vaccine\",\"source_url\"],axis=1)\n",
    "y=df[\"total_vaccinations\"]"
   ]
  },
  {
   "cell_type": "code",
   "execution_count": 19,
   "id": "e0519d35",
   "metadata": {},
   "outputs": [],
   "source": [
    "X_train, X_test, y_train, y_test = train_test_split(X,y,test_size=0.30,random_state=42)"
   ]
  },
  {
   "cell_type": "code",
   "execution_count": 20,
   "id": "5f7d73ea",
   "metadata": {},
   "outputs": [
    {
     "name": "stderr",
     "output_type": "stream",
     "text": [
      "D:\\Users\\Anubha\\anaconda3\\lib\\site-packages\\sklearn\\linear_model\\_logistic.py:763: ConvergenceWarning: lbfgs failed to converge (status=1):\n",
      "STOP: TOTAL NO. of ITERATIONS REACHED LIMIT.\n",
      "\n",
      "Increase the number of iterations (max_iter) or scale the data as shown in:\n",
      "    https://scikit-learn.org/stable/modules/preprocessing.html\n",
      "Please also refer to the documentation for alternative solver options:\n",
      "    https://scikit-learn.org/stable/modules/linear_model.html#logistic-regression\n",
      "  n_iter_i = _check_optimize_result(\n"
     ]
    },
    {
     "data": {
      "text/plain": [
       "LogisticRegression()"
      ]
     },
     "execution_count": 20,
     "metadata": {},
     "output_type": "execute_result"
    }
   ],
   "source": [
    "model=LogisticRegression()\n",
    "model.fit(X_train,y_train)"
   ]
  },
  {
   "cell_type": "code",
   "execution_count": 21,
   "id": "5c9d1619",
   "metadata": {},
   "outputs": [],
   "source": [
    "predictions=model.predict(X_test)"
   ]
  },
  {
   "cell_type": "code",
   "execution_count": 22,
   "id": "ccbe2d9e",
   "metadata": {},
   "outputs": [
    {
     "data": {
      "text/plain": [
       "0.0"
      ]
     },
     "execution_count": 22,
     "metadata": {},
     "output_type": "execute_result"
    }
   ],
   "source": [
    "from sklearn.metrics import accuracy_score\n",
    "accuracy_score(y_test,predictions)"
   ]
  },
  {
   "cell_type": "code",
   "execution_count": 23,
   "id": "d19636d2",
   "metadata": {},
   "outputs": [
    {
     "name": "stdout",
     "output_type": "stream",
     "text": [
      "              precision    recall  f1-score   support\n",
      "\n",
      "           0       0.00      0.00      0.00       1.0\n",
      "      191181       0.00      0.00      0.00       0.0\n",
      "      454049       0.00      0.00      0.00       1.0\n",
      "      806484       0.00      0.00      0.00       1.0\n",
      "     1390592       0.00      0.00      0.00       1.0\n",
      "     1615504       0.00      0.00      0.00       1.0\n",
      "     3744334       0.00      0.00      0.00       1.0\n",
      "     3758843       0.00      0.00      0.00       1.0\n",
      "     3950156       0.00      0.00      0.00       1.0\n",
      "     4138918       0.00      0.00      0.00       1.0\n",
      "     4449552       0.00      0.00      0.00       1.0\n",
      "     5775322       0.00      0.00      0.00       1.0\n",
      "     6259008       0.00      0.00      0.00       1.0\n",
      "     6611561       0.00      0.00      0.00       1.0\n",
      "     8516771       0.00      0.00      0.00       1.0\n",
      "     8857341       0.00      0.00      0.00       1.0\n",
      "     9846523       0.00      0.00      0.00       1.0\n",
      "    12366633       0.00      0.00      0.00       1.0\n",
      "    14242547       0.00      0.00      0.00       1.0\n",
      "    15620749       0.00      0.00      0.00       1.0\n",
      "    16616048       0.00      0.00      0.00       1.0\n",
      "    28218457       0.00      0.00      0.00       1.0\n",
      "    29738409       0.00      0.00      0.00       1.0\n",
      "    29908038       0.00      0.00      0.00       1.0\n",
      "    37143255       0.00      0.00      0.00       1.0\n",
      "    44603841       0.00      0.00      0.00       1.0\n",
      "    50841286       0.00      0.00      0.00       1.0\n",
      "    60269782       0.00      0.00      0.00       1.0\n",
      "    61113354       0.00      0.00      0.00       1.0\n",
      "    63054353       0.00      0.00      0.00       1.0\n",
      "    68789138       0.00      0.00      0.00       1.0\n",
      "    73054295       0.00      0.00      0.00       1.0\n",
      "    75979651       0.00      0.00      0.00       1.0\n",
      "    79105163       0.00      0.00      0.00       1.0\n",
      "    83110926       0.00      0.00      0.00       1.0\n",
      "    94334262       0.00      0.00      0.00       1.0\n",
      "   101595147       0.00      0.00      0.00       1.0\n",
      "   119937641       0.00      0.00      0.00       1.0\n",
      "   127129113       0.00      0.00      0.00       1.0\n",
      "   129646105       0.00      0.00      0.00       1.0\n",
      "   151998107       0.00      0.00      0.00       1.0\n",
      "   156082136       0.00      0.00      0.00       1.0\n",
      "   165190000       0.00      0.00      0.00       1.0\n",
      "   168304868       0.00      0.00      0.00       1.0\n",
      "   176045577       0.00      0.00      0.00       1.0\n",
      "   178361846       0.00      0.00      0.00       1.0\n",
      "   181544536       0.00      0.00      0.00       1.0\n",
      "   183817204       0.00      0.00      0.00       1.0\n",
      "   194165711       0.00      0.00      0.00       1.0\n",
      "   198425615       0.00      0.00      0.00       1.0\n",
      "   210449895       0.00      0.00      0.00       1.0\n",
      "   213135738       0.00      0.00      0.00       1.0\n",
      "   228041045       0.00      0.00      0.00       1.0\n",
      "   236856505       0.00      0.00      0.00       1.0\n",
      "   283313942       0.00      0.00      0.00       1.0\n",
      "   289855456       0.00      0.00      0.00       1.0\n",
      "   300054027       0.00      0.00      0.00       1.0\n",
      "   314841384       0.00      0.00      0.00       1.0\n",
      "   347378550       0.00      0.00      0.00       1.0\n",
      "   354307646       0.00      0.00      0.00       1.0\n",
      "   381467646       0.00      0.00      0.00       1.0\n",
      "   395343767       0.00      0.00      0.00       1.0\n",
      "   399695879       0.00      0.00      0.00       1.0\n",
      "   423417030       0.00      0.00      0.00       1.0\n",
      "   435196001       0.00      0.00      0.00       1.0\n",
      "   489342295       0.00      0.00      0.00       1.0\n",
      "   495327595       0.00      0.00      0.00       1.0\n",
      "   501009609       0.00      0.00      0.00       1.0\n",
      "   550520038       0.00      0.00      0.00       1.0\n",
      "   556520316       0.00      0.00      0.00       1.0\n",
      "   597923238       0.00      0.00      0.00       1.0\n",
      "   669775627       0.00      0.00      0.00       0.0\n",
      "   675654935       0.00      0.00      0.00       1.0\n",
      "   684515513       0.00      0.00      0.00       1.0\n",
      "   688453563       0.00      0.00      0.00       1.0\n",
      "   699668404       0.00      0.00      0.00       0.0\n",
      "   710550810       0.00      0.00      0.00       1.0\n",
      "   720910239       0.00      0.00      0.00       0.0\n",
      "   724114731       0.00      0.00      0.00       1.0\n",
      "   733428972       0.00      0.00      0.00       0.0\n",
      "   740278136       0.00      0.00      0.00       1.0\n",
      "   750284569       0.00      0.00      0.00       0.0\n",
      "   771341641       0.00      0.00      0.00       1.0\n",
      "   821836262       0.00      0.00      0.00       1.0\n",
      "   847653817       0.00      0.00      0.00       0.0\n",
      "   886425292       0.00      0.00      0.00       1.0\n",
      "   893203984       0.00      0.00      0.00       1.0\n",
      "   923526951       0.00      0.00      0.00       1.0\n",
      "   927173859       0.00      0.00      0.00       0.0\n",
      "   935219767       0.00      0.00      0.00       1.0\n",
      "   943033918       0.00      0.00      0.00       0.0\n",
      "   954908095       0.00      0.00      0.00       1.0\n",
      "   961339629       0.00      0.00      0.00       0.0\n",
      "  1003204289       0.00      0.00      0.00       1.0\n",
      "  1009945663       0.00      0.00      0.00       0.0\n",
      "  1022267850       0.00      0.00      0.00       1.0\n",
      "  1024149949       0.00      0.00      0.00       0.0\n",
      "  1030850079       0.00      0.00      0.00       0.0\n",
      "  1036568410       0.00      0.00      0.00       1.0\n",
      "  1051708635       0.00      0.00      0.00       0.0\n",
      "  1058489433       0.00      0.00      0.00       1.0\n",
      "  1077107323       0.00      0.00      0.00       0.0\n",
      "  1080177477       0.00      0.00      0.00       1.0\n",
      "  1088236037       0.00      0.00      0.00       0.0\n",
      "  1092148139       0.00      0.00      0.00       1.0\n",
      "  1175843376       0.00      0.00      0.00       0.0\n",
      "  1183947210       0.00      0.00      0.00       1.0\n",
      "  1210758081       0.00      0.00      0.00       0.0\n",
      "  1212493046       0.00      0.00      0.00       1.0\n",
      "  1228492006       0.00      0.00      0.00       1.0\n",
      "  1237055142       0.00      0.00      0.00       0.0\n",
      "  1299875078       0.00      0.00      0.00       1.0\n",
      "  1308244539       0.00      0.00      0.00       1.0\n",
      "  1312375088       0.00      0.00      0.00       0.0\n",
      "  1335465563       0.00      0.00      0.00       1.0\n",
      "  1346291425       0.00      0.00      0.00       0.0\n",
      "  1352485358       0.00      0.00      0.00       0.0\n",
      "  1356491248       0.00      0.00      0.00       1.0\n",
      "  1398221289       0.00      0.00      0.00       0.0\n",
      "  1404556570       0.00      0.00      0.00       1.0\n",
      "  1413981791       0.00      0.00      0.00       0.0\n",
      "  1414731603       0.00      0.00      0.00       1.0\n",
      "  1418447119       0.00      0.00      0.00       1.0\n",
      "  1435195841       0.00      0.00      0.00       1.0\n",
      "  1505591911       0.00      0.00      0.00       1.0\n",
      "  1524222751       0.00      0.00      0.00       0.0\n",
      "  1537841948       0.00      0.00      0.00       1.0\n",
      "  1544297708       0.00      0.00      0.00       0.0\n",
      "  1576006300       0.00      0.00      0.00       1.0\n",
      "  1600333779       0.00      0.00      0.00       0.0\n",
      "  1617088106       0.00      0.00      0.00       1.0\n",
      "  1636183520       0.00      0.00      0.00       0.0\n",
      "  1657362150       0.00      0.00      0.00       1.0\n",
      "  1664786038       0.00      0.00      0.00       1.0\n",
      "  1677030680       0.00      0.00      0.00       0.0\n",
      "  1681517744       0.00      0.00      0.00       0.0\n",
      "  1702679391       0.00      0.00      0.00       1.0\n",
      "  1710398811       0.00      0.00      0.00       1.0\n",
      "  1723371281       0.00      0.00      0.00       1.0\n",
      "  1727912049       0.00      0.00      0.00       1.0\n",
      "  1729729648       0.00      0.00      0.00       0.0\n",
      "  1747936912       0.00      0.00      0.00       1.0\n",
      "  1751467446       0.00      0.00      0.00       1.0\n",
      "  1753406786       0.00      0.00      0.00       1.0\n",
      "  1755791055       0.00      0.00      0.00       1.0\n",
      "  1759523094       0.00      0.00      0.00       1.0\n",
      "  1768596814       0.00      0.00      0.00       1.0\n",
      "  1772317897       0.00      0.00      0.00       1.0\n",
      "  1773724815       0.00      0.00      0.00       1.0\n",
      "  1775178647       0.00      0.00      0.00       1.0\n",
      "  1778253673       0.00      0.00      0.00       0.0\n",
      "  1781445039       0.00      0.00      0.00       1.0\n",
      "  1784081444       0.00      0.00      0.00       0.0\n",
      "  1787845508       0.00      0.00      0.00       1.0\n",
      "  1789317128       0.00      0.00      0.00       1.0\n",
      "  1791553063       0.00      0.00      0.00       1.0\n",
      "\n",
      "    accuracy                           0.00     123.0\n",
      "   macro avg       0.00      0.00      0.00     123.0\n",
      "weighted avg       0.00      0.00      0.00     123.0\n",
      "\n"
     ]
    },
    {
     "name": "stderr",
     "output_type": "stream",
     "text": [
      "D:\\Users\\Anubha\\anaconda3\\lib\\site-packages\\sklearn\\metrics\\_classification.py:1248: UndefinedMetricWarning: Precision and F-score are ill-defined and being set to 0.0 in labels with no predicted samples. Use `zero_division` parameter to control this behavior.\n",
      "  _warn_prf(average, modifier, msg_start, len(result))\n",
      "D:\\Users\\Anubha\\anaconda3\\lib\\site-packages\\sklearn\\metrics\\_classification.py:1248: UndefinedMetricWarning: Recall and F-score are ill-defined and being set to 0.0 in labels with no true samples. Use `zero_division` parameter to control this behavior.\n",
      "  _warn_prf(average, modifier, msg_start, len(result))\n",
      "D:\\Users\\Anubha\\anaconda3\\lib\\site-packages\\sklearn\\metrics\\_classification.py:1248: UndefinedMetricWarning: Precision and F-score are ill-defined and being set to 0.0 in labels with no predicted samples. Use `zero_division` parameter to control this behavior.\n",
      "  _warn_prf(average, modifier, msg_start, len(result))\n",
      "D:\\Users\\Anubha\\anaconda3\\lib\\site-packages\\sklearn\\metrics\\_classification.py:1248: UndefinedMetricWarning: Recall and F-score are ill-defined and being set to 0.0 in labels with no true samples. Use `zero_division` parameter to control this behavior.\n",
      "  _warn_prf(average, modifier, msg_start, len(result))\n",
      "D:\\Users\\Anubha\\anaconda3\\lib\\site-packages\\sklearn\\metrics\\_classification.py:1248: UndefinedMetricWarning: Precision and F-score are ill-defined and being set to 0.0 in labels with no predicted samples. Use `zero_division` parameter to control this behavior.\n",
      "  _warn_prf(average, modifier, msg_start, len(result))\n",
      "D:\\Users\\Anubha\\anaconda3\\lib\\site-packages\\sklearn\\metrics\\_classification.py:1248: UndefinedMetricWarning: Recall and F-score are ill-defined and being set to 0.0 in labels with no true samples. Use `zero_division` parameter to control this behavior.\n",
      "  _warn_prf(average, modifier, msg_start, len(result))\n"
     ]
    }
   ],
   "source": [
    "from sklearn import metrics\n",
    "print(metrics.classification_report(y_test, predictions))"
   ]
  },
  {
   "cell_type": "code",
   "execution_count": 24,
   "id": "b883f45a",
   "metadata": {},
   "outputs": [
    {
     "data": {
      "text/plain": [
       "array([[0, 1, 0, ..., 0, 0, 0],\n",
       "       [0, 0, 0, ..., 0, 0, 0],\n",
       "       [0, 0, 0, ..., 0, 0, 0],\n",
       "       ...,\n",
       "       [0, 0, 0, ..., 0, 0, 0],\n",
       "       [0, 0, 0, ..., 0, 0, 0],\n",
       "       [0, 0, 0, ..., 0, 0, 0]], dtype=int64)"
      ]
     },
     "execution_count": 24,
     "metadata": {},
     "output_type": "execute_result"
    }
   ],
   "source": [
    "from sklearn.metrics import confusion_matrix\n",
    "confusion_matrix(y_test,predictions)"
   ]
  },
  {
   "cell_type": "code",
   "execution_count": 25,
   "id": "0ae309c2",
   "metadata": {},
   "outputs": [
    {
     "data": {
      "text/plain": [
       "<AxesSubplot:>"
      ]
     },
     "execution_count": 25,
     "metadata": {},
     "output_type": "execute_result"
    },
    {
     "data": {
      "image/png": "[encoded data removed]",
      "text/plain": [
       "<Figure size 504x360 with 2 Axes>"
      ]
     },
     "metadata": {
      "needs_background": "light"
     },
     "output_type": "display_data"
    }
   ],
   "source": [
    "cm=metrics.confusion_matrix(y_test, predictions, labels=[1,0])\n",
    "\n",
    "df_cm = pd.DataFrame(cm,index = [i for i in [\"1\",\"0\"]],\n",
    "                    columns = [i for i in [\"Predict 1\",\"Predict 0\"]])\n",
    "plt.figure(figsize = (7,5))\n",
    "sns.heatmap(df_cm, annot=True, fmt='g')"
   ]
  },
  {
   "cell_type": "code",
   "execution_count": 26,
   "id": "f4938574",
   "metadata": {},
   "outputs": [],
   "source": [
    "from sklearn import svm"
   ]
  },
  {
   "cell_type": "code",
   "execution_count": 27,
   "id": "d70fb826",
   "metadata": {},
   "outputs": [],
   "source": [
    "sf = svm.SVC(gamma=0.49, C=7)"
   ]
  },
  {
   "cell_type": "code",
   "execution_count": 28,
   "id": "711c95f3",
   "metadata": {},
   "outputs": [
    {
     "data": {
      "text/plain": [
       "SVC(C=7, gamma=0.49)"
      ]
     },
     "execution_count": 28,
     "metadata": {},
     "output_type": "execute_result"
    }
   ],
   "source": [
    "sf.fit(X_train , y_train)"
   ]
  },
  {
   "cell_type": "code",
   "execution_count": 29,
   "id": "18825b9c",
   "metadata": {},
   "outputs": [],
   "source": [
    "y_pred = sf.predict(X_test)"
   ]
  },
  {
   "cell_type": "code",
   "execution_count": 30,
   "id": "db6bdaa4",
   "metadata": {},
   "outputs": [
    {
     "data": {
      "text/plain": [
       "0.0"
      ]
     },
     "execution_count": 30,
     "metadata": {},
     "output_type": "execute_result"
    }
   ],
   "source": [
    "from sklearn.metrics import accuracy_score\n",
    "accuracy_score(y_test ,y_pred)"
   ]
  },
  {
   "cell_type": "code",
   "execution_count": null,
   "id": "b70419f4",
   "metadata": {},
   "outputs": [],
   "source": []
  },
  {
   "cell_type": "code",
   "execution_count": null,
   "id": "8103fee5",
   "metadata": {},
   "outputs": [],
   "source": []
  },
  {
   "cell_type": "code",
   "execution_count": null,
   "id": "c5b0560a",
   "metadata": {},
   "outputs": [],
   "source": []
  },
  {
   "cell_type": "code",
   "execution_count": null,
   "id": "1a2460ad",
   "metadata": {},
   "outputs": [],
   "source": []
  },
  {
   "cell_type": "code",
   "execution_count": null,
   "id": "fe685953",
   "metadata": {},
   "outputs": [],
   "source": []
  },
  {
   "cell_type": "code",
   "execution_count": null,
   "id": "8abd3db1",
   "metadata": {},
   "outputs": [],
   "source": []
  },
  {
   "cell_type": "code",
   "execution_count": null,
   "id": "7ce3d05b",
   "metadata": {},
   "outputs": [],
   "source": []
  },
  {
   "cell_type": "code",
   "execution_count": null,
   "id": "4ae8a783",
   "metadata": {},
   "outputs": [],
   "source": []
  },
  {
   "cell_type": "code",
   "execution_count": null,
   "id": "f06e3f27",
   "metadata": {},
   "outputs": [],
   "source": []
  },
  {
   "cell_type": "code",
   "execution_count": null,
   "id": "7e4638d5",
   "metadata": {},
   "outputs": [],
   "source": []
  },
  {
   "cell_type": "code",
   "execution_count": null,
   "id": "59b973f7",
   "metadata": {},
   "outputs": [],
   "source": []
  },
  {
   "cell_type": "code",
   "execution_count": null,
   "id": "8bfac243",
   "metadata": {},
   "outputs": [],
   "source": []
  },
  {
   "cell_type": "code",
   "execution_count": null,
   "id": "a4c641c7",
   "metadata": {},
   "outputs": [],
   "source": []
  },
  {
   "cell_type": "code",
   "execution_count": null,
   "id": "b8f51996",
   "metadata": {},
   "outputs": [],
   "source": []
  },
  {
   "cell_type": "code",
   "execution_count": null,
   "id": "f0c6b230",
   "metadata": {},
   "outputs": [],
   "source": []
  },
  {
   "cell_type": "code",
   "execution_count": null,
   "id": "f2b66554",
   "metadata": {},
   "outputs": [],
   "source": []
  },
  {
   "cell_type": "code",
   "execution_count": null,
   "id": "dd5ae26f",
   "metadata": {},
   "outputs": [],
   "source": []
  },
  {
   "cell_type": "code",
   "execution_count": null,
   "id": "01f83814",
   "metadata": {},
   "outputs": [],
   "source": []
  },
  {
   "cell_type": "code",
   "execution_count": null,
   "id": "c5b3c9e2",
   "metadata": {},
   "outputs": [],
   "source": []
  },
  {
   "cell_type": "code",
   "execution_count": null,
   "id": "9ad573c0",
   "metadata": {},
   "outputs": [],
   "source": []
  },
  {
   "cell_type": "code",
   "execution_count": null,
   "id": "a51bf1bc",
   "metadata": {},
   "outputs": [],
   "source": []
  },
  {
   "cell_type": "code",
   "execution_count": null,
   "id": "fc95e2a2",
   "metadata": {},
   "outputs": [],
   "source": []
  },
  {
   "cell_type": "code",
   "execution_count": null,
   "id": "60ff07f2",
   "metadata": {},
   "outputs": [],
   "source": []
  },
  {
   "cell_type": "code",
   "execution_count": null,
   "id": "601556a7",
   "metadata": {},
   "outputs": [],
   "source": []
  },
  {
   "cell_type": "code",
   "execution_count": null,
   "id": "4a61e641",
   "metadata": {},
   "outputs": [],
   "source": []
  },
  {
   "cell_type": "code",
   "execution_count": null,
   "id": "833e43b3",
   "metadata": {},
   "outputs": [],
   "source": []
  },
  {
   "cell_type": "code",
   "execution_count": null,
   "id": "83f32487",
   "metadata": {},
   "outputs": [],
   "source": []
  }
 ],
 "metadata": {
  "kernelspec": {
   "display_name": "Python 3 (ipykernel)",
   "language": "python",
   "name": "python3"
  },
  "language_info": {
   "codemirror_mode": {
    "name": "ipython",
    "version": 3
   },
   "file_extension": ".py",
   "mimetype": "text/x-python",
   "name": "python",
   "nbconvert_exporter": "python",
   "pygments_lexer": "ipython3",
   "version": "3.9.7"
  }
 },
 "nbformat": 4,
 "nbformat_minor": 5
}
