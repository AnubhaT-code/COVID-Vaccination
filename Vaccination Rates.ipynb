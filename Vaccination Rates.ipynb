{
 "cells": [
  {
   "cell_type": "code",
   "execution_count": 1,
   "id": "8af271d3",
   "metadata": {},
   "outputs": [],
   "source": [
    "### Import the required packages\n",
    "import numpy as np\n",
    "import pandas as pd\n",
    "import seaborn as sns\n",
    "%matplotlib inline\n",
    "from matplotlib import pyplot as plt\n",
    "from sklearn.linear_model import LogisticRegression\n",
    "from sklearn.model_selection import train_test_split\n",
    "from sklearn.linear_model import LinearRegression\n",
    "import glob"
   ]
  },
  {
   "cell_type": "code",
   "execution_count": 2,
   "id": "8e3a6dd9",
   "metadata": {},
   "outputs": [
    {
     "data": {
      "text/plain": [
       "['Desktop\\\\Country_data\\\\Afghanistan.csv',\n",
       " 'Desktop\\\\Country_data\\\\Albania.csv',\n",
       " 'Desktop\\\\Country_data\\\\Algeria.csv',\n",
       " 'Desktop\\\\Country_data\\\\Andorra.csv',\n",
       " 'Desktop\\\\Country_data\\\\Angola.csv',\n",
       " 'Desktop\\\\Country_data\\\\Anguilla.csv',\n",
       " 'Desktop\\\\Country_data\\\\Antigua and Barbuda.csv',\n",
       " 'Desktop\\\\Country_data\\\\Argentina.csv',\n",
       " 'Desktop\\\\Country_data\\\\Armenia.csv',\n",
       " 'Desktop\\\\Country_data\\\\Aruba.csv',\n",
       " 'Desktop\\\\Country_data\\\\Australia.csv',\n",
       " 'Desktop\\\\Country_data\\\\Austria.csv',\n",
       " 'Desktop\\\\Country_data\\\\Azerbaijan.csv',\n",
       " 'Desktop\\\\Country_data\\\\Bahamas.csv',\n",
       " 'Desktop\\\\Country_data\\\\Bahrain.csv',\n",
       " 'Desktop\\\\Country_data\\\\Bangladesh.csv',\n",
       " 'Desktop\\\\Country_data\\\\Barbados.csv',\n",
       " 'Desktop\\\\Country_data\\\\Belarus.csv',\n",
       " 'Desktop\\\\Country_data\\\\Belgium.csv',\n",
       " 'Desktop\\\\Country_data\\\\Belize.csv',\n",
       " 'Desktop\\\\Country_data\\\\Benin.csv',\n",
       " 'Desktop\\\\Country_data\\\\Bermuda.csv',\n",
       " 'Desktop\\\\Country_data\\\\Bhutan.csv',\n",
       " 'Desktop\\\\Country_data\\\\Bolivia.csv',\n",
       " 'Desktop\\\\Country_data\\\\Bonaire Sint Eustatius and Saba.csv',\n",
       " 'Desktop\\\\Country_data\\\\Bosnia and Herzegovina.csv',\n",
       " 'Desktop\\\\Country_data\\\\Botswana.csv',\n",
       " 'Desktop\\\\Country_data\\\\Brazil.csv',\n",
       " 'Desktop\\\\Country_data\\\\British Virgin Islands.csv',\n",
       " 'Desktop\\\\Country_data\\\\Brunei.csv',\n",
       " 'Desktop\\\\Country_data\\\\Bulgaria.csv',\n",
       " 'Desktop\\\\Country_data\\\\Burkina Faso.csv',\n",
       " 'Desktop\\\\Country_data\\\\Burundi.csv',\n",
       " 'Desktop\\\\Country_data\\\\Cambodia.csv',\n",
       " 'Desktop\\\\Country_data\\\\Cameroon.csv',\n",
       " 'Desktop\\\\Country_data\\\\Canada.csv',\n",
       " 'Desktop\\\\Country_data\\\\Cape Verde.csv',\n",
       " 'Desktop\\\\Country_data\\\\Cayman Islands.csv',\n",
       " 'Desktop\\\\Country_data\\\\Central African Republic.csv',\n",
       " 'Desktop\\\\Country_data\\\\Chad.csv',\n",
       " 'Desktop\\\\Country_data\\\\Chile.csv',\n",
       " 'Desktop\\\\Country_data\\\\China.csv',\n",
       " 'Desktop\\\\Country_data\\\\Colombia.csv',\n",
       " 'Desktop\\\\Country_data\\\\Comoros.csv',\n",
       " 'Desktop\\\\Country_data\\\\Congo.csv',\n",
       " 'Desktop\\\\Country_data\\\\Cook Islands.csv',\n",
       " 'Desktop\\\\Country_data\\\\Costa Rica.csv',\n",
       " \"Desktop\\\\Country_data\\\\Cote d'Ivoire.csv\",\n",
       " 'Desktop\\\\Country_data\\\\Croatia.csv',\n",
       " 'Desktop\\\\Country_data\\\\Cuba.csv',\n",
       " 'Desktop\\\\Country_data\\\\Curacao.csv',\n",
       " 'Desktop\\\\Country_data\\\\Cyprus.csv',\n",
       " 'Desktop\\\\Country_data\\\\Czechia.csv',\n",
       " 'Desktop\\\\Country_data\\\\Democratic Republic of Congo.csv',\n",
       " 'Desktop\\\\Country_data\\\\Denmark.csv',\n",
       " 'Desktop\\\\Country_data\\\\Djibouti.csv',\n",
       " 'Desktop\\\\Country_data\\\\Dominica.csv',\n",
       " 'Desktop\\\\Country_data\\\\Dominican Republic.csv',\n",
       " 'Desktop\\\\Country_data\\\\Ecuador.csv',\n",
       " 'Desktop\\\\Country_data\\\\Egypt.csv',\n",
       " 'Desktop\\\\Country_data\\\\El Salvador.csv',\n",
       " 'Desktop\\\\Country_data\\\\England.csv',\n",
       " 'Desktop\\\\Country_data\\\\Equatorial Guinea.csv',\n",
       " 'Desktop\\\\Country_data\\\\Estonia.csv',\n",
       " 'Desktop\\\\Country_data\\\\Eswatini.csv',\n",
       " 'Desktop\\\\Country_data\\\\Ethiopia.csv',\n",
       " 'Desktop\\\\Country_data\\\\Faeroe Islands.csv',\n",
       " 'Desktop\\\\Country_data\\\\Falkland Islands.csv',\n",
       " 'Desktop\\\\Country_data\\\\Fiji.csv',\n",
       " 'Desktop\\\\Country_data\\\\Finland.csv',\n",
       " 'Desktop\\\\Country_data\\\\France.csv',\n",
       " 'Desktop\\\\Country_data\\\\French Polynesia.csv',\n",
       " 'Desktop\\\\Country_data\\\\Gabon.csv',\n",
       " 'Desktop\\\\Country_data\\\\Gambia.csv',\n",
       " 'Desktop\\\\Country_data\\\\Georgia.csv',\n",
       " 'Desktop\\\\Country_data\\\\Germany.csv',\n",
       " 'Desktop\\\\Country_data\\\\Ghana.csv',\n",
       " 'Desktop\\\\Country_data\\\\Gibraltar.csv',\n",
       " 'Desktop\\\\Country_data\\\\Greece.csv',\n",
       " 'Desktop\\\\Country_data\\\\Greenland.csv',\n",
       " 'Desktop\\\\Country_data\\\\Grenada.csv',\n",
       " 'Desktop\\\\Country_data\\\\Guatemala.csv',\n",
       " 'Desktop\\\\Country_data\\\\Guernsey.csv',\n",
       " 'Desktop\\\\Country_data\\\\Guinea-Bissau.csv',\n",
       " 'Desktop\\\\Country_data\\\\Guinea.csv',\n",
       " 'Desktop\\\\Country_data\\\\Guyana.csv',\n",
       " 'Desktop\\\\Country_data\\\\Haiti.csv',\n",
       " 'Desktop\\\\Country_data\\\\Honduras.csv',\n",
       " 'Desktop\\\\Country_data\\\\Hong Kong.csv',\n",
       " 'Desktop\\\\Country_data\\\\Hungary.csv',\n",
       " 'Desktop\\\\Country_data\\\\Iceland.csv',\n",
       " 'Desktop\\\\Country_data\\\\India.csv',\n",
       " 'Desktop\\\\Country_data\\\\Indonesia.csv',\n",
       " 'Desktop\\\\Country_data\\\\Iran.csv',\n",
       " 'Desktop\\\\Country_data\\\\Iraq.csv',\n",
       " 'Desktop\\\\Country_data\\\\Ireland.csv',\n",
       " 'Desktop\\\\Country_data\\\\Isle of Man.csv',\n",
       " 'Desktop\\\\Country_data\\\\Israel.csv',\n",
       " 'Desktop\\\\Country_data\\\\Italy.csv',\n",
       " 'Desktop\\\\Country_data\\\\Jamaica.csv',\n",
       " 'Desktop\\\\Country_data\\\\Japan.csv',\n",
       " 'Desktop\\\\Country_data\\\\Jersey.csv',\n",
       " 'Desktop\\\\Country_data\\\\Jordan.csv',\n",
       " 'Desktop\\\\Country_data\\\\Kazakhstan.csv',\n",
       " 'Desktop\\\\Country_data\\\\Kenya.csv',\n",
       " 'Desktop\\\\Country_data\\\\Kiribati.csv',\n",
       " 'Desktop\\\\Country_data\\\\Kosovo.csv',\n",
       " 'Desktop\\\\Country_data\\\\Kuwait.csv',\n",
       " 'Desktop\\\\Country_data\\\\Kyrgyzstan.csv',\n",
       " 'Desktop\\\\Country_data\\\\Laos.csv',\n",
       " 'Desktop\\\\Country_data\\\\Latvia.csv',\n",
       " 'Desktop\\\\Country_data\\\\Lebanon.csv',\n",
       " 'Desktop\\\\Country_data\\\\Lesotho.csv',\n",
       " 'Desktop\\\\Country_data\\\\Liberia.csv',\n",
       " 'Desktop\\\\Country_data\\\\Libya.csv',\n",
       " 'Desktop\\\\Country_data\\\\Liechtenstein.csv',\n",
       " 'Desktop\\\\Country_data\\\\Lithuania.csv',\n",
       " 'Desktop\\\\Country_data\\\\Luxembourg.csv',\n",
       " 'Desktop\\\\Country_data\\\\Macao.csv',\n",
       " 'Desktop\\\\Country_data\\\\Madagascar.csv',\n",
       " 'Desktop\\\\Country_data\\\\Malawi.csv',\n",
       " 'Desktop\\\\Country_data\\\\Malaysia.csv',\n",
       " 'Desktop\\\\Country_data\\\\Maldives.csv',\n",
       " 'Desktop\\\\Country_data\\\\Mali.csv',\n",
       " 'Desktop\\\\Country_data\\\\Malta.csv',\n",
       " 'Desktop\\\\Country_data\\\\Mauritania.csv',\n",
       " 'Desktop\\\\Country_data\\\\Mauritius.csv',\n",
       " 'Desktop\\\\Country_data\\\\Mexico.csv',\n",
       " 'Desktop\\\\Country_data\\\\Moldova.csv',\n",
       " 'Desktop\\\\Country_data\\\\Monaco.csv',\n",
       " 'Desktop\\\\Country_data\\\\Mongolia.csv',\n",
       " 'Desktop\\\\Country_data\\\\Montenegro.csv',\n",
       " 'Desktop\\\\Country_data\\\\Montserrat.csv',\n",
       " 'Desktop\\\\Country_data\\\\Morocco.csv',\n",
       " 'Desktop\\\\Country_data\\\\Mozambique.csv',\n",
       " 'Desktop\\\\Country_data\\\\Myanmar.csv',\n",
       " 'Desktop\\\\Country_data\\\\Namibia.csv',\n",
       " 'Desktop\\\\Country_data\\\\Nauru.csv',\n",
       " 'Desktop\\\\Country_data\\\\Nepal.csv',\n",
       " 'Desktop\\\\Country_data\\\\Netherlands.csv',\n",
       " 'Desktop\\\\Country_data\\\\New Caledonia.csv',\n",
       " 'Desktop\\\\Country_data\\\\New Zealand.csv',\n",
       " 'Desktop\\\\Country_data\\\\Nicaragua.csv',\n",
       " 'Desktop\\\\Country_data\\\\Niger.csv',\n",
       " 'Desktop\\\\Country_data\\\\Nigeria.csv',\n",
       " 'Desktop\\\\Country_data\\\\Niue.csv',\n",
       " 'Desktop\\\\Country_data\\\\North Macedonia.csv',\n",
       " 'Desktop\\\\Country_data\\\\Northern Cyprus.csv',\n",
       " 'Desktop\\\\Country_data\\\\Northern Ireland.csv',\n",
       " 'Desktop\\\\Country_data\\\\Norway.csv',\n",
       " 'Desktop\\\\Country_data\\\\Oman.csv',\n",
       " 'Desktop\\\\Country_data\\\\Pakistan.csv',\n",
       " 'Desktop\\\\Country_data\\\\Palau.csv',\n",
       " 'Desktop\\\\Country_data\\\\Palestine.csv',\n",
       " 'Desktop\\\\Country_data\\\\Panama.csv',\n",
       " 'Desktop\\\\Country_data\\\\Papua New Guinea.csv',\n",
       " 'Desktop\\\\Country_data\\\\Paraguay.csv',\n",
       " 'Desktop\\\\Country_data\\\\Peru.csv',\n",
       " 'Desktop\\\\Country_data\\\\Philippines.csv',\n",
       " 'Desktop\\\\Country_data\\\\Pitcairn.csv',\n",
       " 'Desktop\\\\Country_data\\\\Poland.csv',\n",
       " 'Desktop\\\\Country_data\\\\Portugal.csv',\n",
       " 'Desktop\\\\Country_data\\\\Qatar.csv',\n",
       " 'Desktop\\\\Country_data\\\\Romania.csv',\n",
       " 'Desktop\\\\Country_data\\\\Russia.csv',\n",
       " 'Desktop\\\\Country_data\\\\Rwanda.csv',\n",
       " 'Desktop\\\\Country_data\\\\Saint Helena.csv',\n",
       " 'Desktop\\\\Country_data\\\\Saint Kitts and Nevis.csv',\n",
       " 'Desktop\\\\Country_data\\\\Saint Lucia.csv',\n",
       " 'Desktop\\\\Country_data\\\\Saint Vincent and the Grenadines.csv',\n",
       " 'Desktop\\\\Country_data\\\\Samoa.csv',\n",
       " 'Desktop\\\\Country_data\\\\San Marino.csv',\n",
       " 'Desktop\\\\Country_data\\\\Sao Tome and Principe.csv',\n",
       " 'Desktop\\\\Country_data\\\\Saudi Arabia.csv',\n",
       " 'Desktop\\\\Country_data\\\\Scotland.csv',\n",
       " 'Desktop\\\\Country_data\\\\Senegal.csv',\n",
       " 'Desktop\\\\Country_data\\\\Serbia.csv',\n",
       " 'Desktop\\\\Country_data\\\\Seychelles.csv',\n",
       " 'Desktop\\\\Country_data\\\\Sierra Leone.csv',\n",
       " 'Desktop\\\\Country_data\\\\Singapore.csv',\n",
       " 'Desktop\\\\Country_data\\\\Sint Maarten (Dutch part).csv',\n",
       " 'Desktop\\\\Country_data\\\\Slovakia.csv',\n",
       " 'Desktop\\\\Country_data\\\\Slovenia.csv',\n",
       " 'Desktop\\\\Country_data\\\\Solomon Islands.csv',\n",
       " 'Desktop\\\\Country_data\\\\Somalia.csv',\n",
       " 'Desktop\\\\Country_data\\\\South Africa.csv',\n",
       " 'Desktop\\\\Country_data\\\\South Korea.csv',\n",
       " 'Desktop\\\\Country_data\\\\South Sudan.csv',\n",
       " 'Desktop\\\\Country_data\\\\Spain.csv',\n",
       " 'Desktop\\\\Country_data\\\\Sri Lanka.csv',\n",
       " 'Desktop\\\\Country_data\\\\Sudan.csv',\n",
       " 'Desktop\\\\Country_data\\\\Suriname.csv',\n",
       " 'Desktop\\\\Country_data\\\\Sweden.csv',\n",
       " 'Desktop\\\\Country_data\\\\Switzerland.csv',\n",
       " 'Desktop\\\\Country_data\\\\Syria.csv',\n",
       " 'Desktop\\\\Country_data\\\\Taiwan.csv',\n",
       " 'Desktop\\\\Country_data\\\\Tajikistan.csv',\n",
       " 'Desktop\\\\Country_data\\\\Tanzania.csv',\n",
       " 'Desktop\\\\Country_data\\\\Thailand.csv',\n",
       " 'Desktop\\\\Country_data\\\\Timor.csv',\n",
       " 'Desktop\\\\Country_data\\\\Togo.csv',\n",
       " 'Desktop\\\\Country_data\\\\Tokelau.csv',\n",
       " 'Desktop\\\\Country_data\\\\Tonga.csv',\n",
       " 'Desktop\\\\Country_data\\\\Trinidad and Tobago.csv',\n",
       " 'Desktop\\\\Country_data\\\\Tunisia.csv',\n",
       " 'Desktop\\\\Country_data\\\\Turkey.csv',\n",
       " 'Desktop\\\\Country_data\\\\Turkmenistan.csv',\n",
       " 'Desktop\\\\Country_data\\\\Turks and Caicos Islands.csv',\n",
       " 'Desktop\\\\Country_data\\\\Tuvalu.csv',\n",
       " 'Desktop\\\\Country_data\\\\Uganda.csv',\n",
       " 'Desktop\\\\Country_data\\\\Ukraine.csv',\n",
       " 'Desktop\\\\Country_data\\\\United Arab Emirates.csv',\n",
       " 'Desktop\\\\Country_data\\\\United Kingdom.csv',\n",
       " 'Desktop\\\\Country_data\\\\United States.csv',\n",
       " 'Desktop\\\\Country_data\\\\Uruguay.csv',\n",
       " 'Desktop\\\\Country_data\\\\Uzbekistan.csv',\n",
       " 'Desktop\\\\Country_data\\\\Vanuatu.csv',\n",
       " 'Desktop\\\\Country_data\\\\Venezuela.csv',\n",
       " 'Desktop\\\\Country_data\\\\Vietnam.csv',\n",
       " 'Desktop\\\\Country_data\\\\Wales.csv',\n",
       " 'Desktop\\\\Country_data\\\\Wallis and Futuna.csv',\n",
       " 'Desktop\\\\Country_data\\\\Yemen.csv',\n",
       " 'Desktop\\\\Country_data\\\\Zambia.csv',\n",
       " 'Desktop\\\\Country_data\\\\Zimbabwe.csv']"
      ]
     },
     "execution_count": 2,
     "metadata": {},
     "output_type": "execute_result"
    }
   ],
   "source": [
    "path = \"Desktop\\Country_data\"\n",
    "all_files = glob.glob(path+\"\\*.csv\")\n",
    "all_files"
   ]
  },
  {
   "cell_type": "code",
   "execution_count": 3,
   "id": "4096459e",
   "metadata": {},
   "outputs": [],
   "source": [
    "li = []\n",
    "\n",
    "for filename in all_files:\n",
    "    data = pd.read_csv( filename, index_col = None, header = 0 )\n",
    "    li.append(data)\n",
    "\n",
    "datas = pd.concat(li, axis=0, ignore_index =  True )"
   ]
  },
  {
   "cell_type": "code",
   "execution_count": 4,
   "id": "febbc228",
   "metadata": {},
   "outputs": [
    {
     "data": {
      "text/html": [
       "<div>\n",
       "<style scoped>\n",
       "    .dataframe tbody tr th:only-of-type {\n",
       "        vertical-align: middle;\n",
       "    }\n",
       "\n",
       "    .dataframe tbody tr th {\n",
       "        vertical-align: top;\n",
       "    }\n",
       "\n",
       "    .dataframe thead th {\n",
       "        text-align: right;\n",
       "    }\n",
       "</style>\n",
       "<table border=\"1\" class=\"dataframe\">\n",
       "  <thead>\n",
       "    <tr style=\"text-align: right;\">\n",
       "      <th></th>\n",
       "      <th>location</th>\n",
       "      <th>date</th>\n",
       "      <th>vaccine</th>\n",
       "      <th>source_url</th>\n",
       "      <th>total_vaccinations</th>\n",
       "      <th>people_vaccinated</th>\n",
       "      <th>people_fully_vaccinated</th>\n",
       "      <th>total_boosters</th>\n",
       "      <th>people_partly_vaccinated</th>\n",
       "    </tr>\n",
       "  </thead>\n",
       "  <tbody>\n",
       "    <tr>\n",
       "      <th>6585</th>\n",
       "      <td>Chile</td>\n",
       "      <td>2021-04-24</td>\n",
       "      <td>Pfizer/BioNTech, Sinovac</td>\n",
       "      <td>https://github.com/MinCiencia/Datos-COVID19</td>\n",
       "      <td>14155759.0</td>\n",
       "      <td>7962337.0</td>\n",
       "      <td>6193422.0</td>\n",
       "      <td>0.0</td>\n",
       "      <td>NaN</td>\n",
       "    </tr>\n",
       "    <tr>\n",
       "      <th>26921</th>\n",
       "      <td>New Zealand</td>\n",
       "      <td>2021-04-20</td>\n",
       "      <td>Pfizer/BioNTech</td>\n",
       "      <td>https://www.health.govt.nz/our-work/diseases-a...</td>\n",
       "      <td>187439.0</td>\n",
       "      <td>144288.0</td>\n",
       "      <td>43148.0</td>\n",
       "      <td>3.0</td>\n",
       "      <td>NaN</td>\n",
       "    </tr>\n",
       "    <tr>\n",
       "      <th>16046</th>\n",
       "      <td>Hungary</td>\n",
       "      <td>2021-05-27</td>\n",
       "      <td>Moderna, Oxford/AstraZeneca, Pfizer/BioNTech, ...</td>\n",
       "      <td>https://koronavirus.gov.hu/cikkek/5-millio-85-...</td>\n",
       "      <td>8530199.0</td>\n",
       "      <td>5084642.0</td>\n",
       "      <td>3445557.0</td>\n",
       "      <td>NaN</td>\n",
       "      <td>NaN</td>\n",
       "    </tr>\n",
       "    <tr>\n",
       "      <th>7712</th>\n",
       "      <td>Cote d'Ivoire</td>\n",
       "      <td>2021-03-06</td>\n",
       "      <td>Oxford/AstraZeneca</td>\n",
       "      <td>https://www.facebook.com/mshpcmu/posts/1848616...</td>\n",
       "      <td>2058.0</td>\n",
       "      <td>2058.0</td>\n",
       "      <td>NaN</td>\n",
       "      <td>NaN</td>\n",
       "      <td>NaN</td>\n",
       "    </tr>\n",
       "    <tr>\n",
       "      <th>21730</th>\n",
       "      <td>Liechtenstein</td>\n",
       "      <td>2021-01-16</td>\n",
       "      <td>Pfizer/BioNTech</td>\n",
       "      <td>https://opendata.swiss/en/dataset/covid-19-sch...</td>\n",
       "      <td>46.0</td>\n",
       "      <td>46.0</td>\n",
       "      <td>0.0</td>\n",
       "      <td>0.0</td>\n",
       "      <td>NaN</td>\n",
       "    </tr>\n",
       "    <tr>\n",
       "      <th>29388</th>\n",
       "      <td>Paraguay</td>\n",
       "      <td>2021-06-29</td>\n",
       "      <td>Covaxin, Moderna, Oxford/AstraZeneca, Pfizer/B...</td>\n",
       "      <td>https://www.vacunate.gov.py/index-listado-vacu...</td>\n",
       "      <td>917170.0</td>\n",
       "      <td>750863.0</td>\n",
       "      <td>166307.0</td>\n",
       "      <td>NaN</td>\n",
       "      <td>NaN</td>\n",
       "    </tr>\n",
       "    <tr>\n",
       "      <th>13717</th>\n",
       "      <td>Germany</td>\n",
       "      <td>2021-12-11</td>\n",
       "      <td>Johnson&amp;Johnson, Moderna, Oxford/AstraZeneca, ...</td>\n",
       "      <td>https://impfdashboard.de/</td>\n",
       "      <td>135143093.0</td>\n",
       "      <td>60568998.0</td>\n",
       "      <td>57922557.0</td>\n",
       "      <td>20197289.0</td>\n",
       "      <td>NaN</td>\n",
       "    </tr>\n",
       "    <tr>\n",
       "      <th>41620</th>\n",
       "      <td>Wales</td>\n",
       "      <td>2021-11-10</td>\n",
       "      <td>Moderna, Oxford/AstraZeneca, Pfizer/BioNTech</td>\n",
       "      <td>https://coronavirus.data.gov.uk/details/vaccin...</td>\n",
       "      <td>5309697.0</td>\n",
       "      <td>2455003.0</td>\n",
       "      <td>2250655.0</td>\n",
       "      <td>604039.0</td>\n",
       "      <td>NaN</td>\n",
       "    </tr>\n",
       "    <tr>\n",
       "      <th>15505</th>\n",
       "      <td>Honduras</td>\n",
       "      <td>2021-06-22</td>\n",
       "      <td>Johnson&amp;Johnson, Moderna, Oxford/AstraZeneca, ...</td>\n",
       "      <td>https://www.facebook.com/saludhn/posts/1839837...</td>\n",
       "      <td>591888.0</td>\n",
       "      <td>533888.0</td>\n",
       "      <td>58000.0</td>\n",
       "      <td>NaN</td>\n",
       "      <td>NaN</td>\n",
       "    </tr>\n",
       "    <tr>\n",
       "      <th>41703</th>\n",
       "      <td>Wales</td>\n",
       "      <td>2022-02-01</td>\n",
       "      <td>Moderna, Oxford/AstraZeneca, Pfizer/BioNTech</td>\n",
       "      <td>https://coronavirus.data.gov.uk/details/vaccin...</td>\n",
       "      <td>6772387.0</td>\n",
       "      <td>2511342.0</td>\n",
       "      <td>2369003.0</td>\n",
       "      <td>1892042.0</td>\n",
       "      <td>NaN</td>\n",
       "    </tr>\n",
       "  </tbody>\n",
       "</table>\n",
       "</div>"
      ],
      "text/plain": [
       "            location        date  \\\n",
       "6585           Chile  2021-04-24   \n",
       "26921    New Zealand  2021-04-20   \n",
       "16046        Hungary  2021-05-27   \n",
       "7712   Cote d'Ivoire  2021-03-06   \n",
       "21730  Liechtenstein  2021-01-16   \n",
       "29388       Paraguay  2021-06-29   \n",
       "13717        Germany  2021-12-11   \n",
       "41620          Wales  2021-11-10   \n",
       "15505       Honduras  2021-06-22   \n",
       "41703          Wales  2022-02-01   \n",
       "\n",
       "                                                 vaccine  \\\n",
       "6585                            Pfizer/BioNTech, Sinovac   \n",
       "26921                                    Pfizer/BioNTech   \n",
       "16046  Moderna, Oxford/AstraZeneca, Pfizer/BioNTech, ...   \n",
       "7712                                  Oxford/AstraZeneca   \n",
       "21730                                    Pfizer/BioNTech   \n",
       "29388  Covaxin, Moderna, Oxford/AstraZeneca, Pfizer/B...   \n",
       "13717  Johnson&Johnson, Moderna, Oxford/AstraZeneca, ...   \n",
       "41620       Moderna, Oxford/AstraZeneca, Pfizer/BioNTech   \n",
       "15505  Johnson&Johnson, Moderna, Oxford/AstraZeneca, ...   \n",
       "41703       Moderna, Oxford/AstraZeneca, Pfizer/BioNTech   \n",
       "\n",
       "                                              source_url  total_vaccinations  \\\n",
       "6585         https://github.com/MinCiencia/Datos-COVID19          14155759.0   \n",
       "26921  https://www.health.govt.nz/our-work/diseases-a...            187439.0   \n",
       "16046  https://koronavirus.gov.hu/cikkek/5-millio-85-...           8530199.0   \n",
       "7712   https://www.facebook.com/mshpcmu/posts/1848616...              2058.0   \n",
       "21730  https://opendata.swiss/en/dataset/covid-19-sch...                46.0   \n",
       "29388  https://www.vacunate.gov.py/index-listado-vacu...            917170.0   \n",
       "13717                          https://impfdashboard.de/         135143093.0   \n",
       "41620  https://coronavirus.data.gov.uk/details/vaccin...           5309697.0   \n",
       "15505  https://www.facebook.com/saludhn/posts/1839837...            591888.0   \n",
       "41703  https://coronavirus.data.gov.uk/details/vaccin...           6772387.0   \n",
       "\n",
       "       people_vaccinated  people_fully_vaccinated  total_boosters  \\\n",
       "6585           7962337.0                6193422.0             0.0   \n",
       "26921           144288.0                  43148.0             3.0   \n",
       "16046          5084642.0                3445557.0             NaN   \n",
       "7712              2058.0                      NaN             NaN   \n",
       "21730               46.0                      0.0             0.0   \n",
       "29388           750863.0                 166307.0             NaN   \n",
       "13717         60568998.0               57922557.0      20197289.0   \n",
       "41620          2455003.0                2250655.0        604039.0   \n",
       "15505           533888.0                  58000.0             NaN   \n",
       "41703          2511342.0                2369003.0       1892042.0   \n",
       "\n",
       "       people_partly_vaccinated  \n",
       "6585                        NaN  \n",
       "26921                       NaN  \n",
       "16046                       NaN  \n",
       "7712                        NaN  \n",
       "21730                       NaN  \n",
       "29388                       NaN  \n",
       "13717                       NaN  \n",
       "41620                       NaN  \n",
       "15505                       NaN  \n",
       "41703                       NaN  "
      ]
     },
     "execution_count": 4,
     "metadata": {},
     "output_type": "execute_result"
    }
   ],
   "source": [
    "datas.sample(10)"
   ]
  },
  {
   "cell_type": "code",
   "execution_count": 5,
   "id": "6f2f7ab0",
   "metadata": {},
   "outputs": [
    {
     "data": {
      "text/plain": [
       "(42342, 9)"
      ]
     },
     "execution_count": 5,
     "metadata": {},
     "output_type": "execute_result"
    }
   ],
   "source": [
    "datas.shape"
   ]
  },
  {
   "cell_type": "code",
   "execution_count": 6,
   "id": "16b79a05",
   "metadata": {},
   "outputs": [
    {
     "name": "stdout",
     "output_type": "stream",
     "text": [
      "<class 'pandas.core.frame.DataFrame'>\n",
      "RangeIndex: 42342 entries, 0 to 42341\n",
      "Data columns (total 9 columns):\n",
      " #   Column                    Non-Null Count  Dtype  \n",
      "---  ------                    --------------  -----  \n",
      " 0   location                  42342 non-null  object \n",
      " 1   date                      42342 non-null  object \n",
      " 2   vaccine                   42342 non-null  object \n",
      " 3   source_url                42342 non-null  object \n",
      " 4   total_vaccinations        41876 non-null  float64\n",
      " 5   people_vaccinated         39639 non-null  float64\n",
      " 6   people_fully_vaccinated   38306 non-null  float64\n",
      " 7   total_boosters            19083 non-null  float64\n",
      " 8   people_partly_vaccinated  7 non-null      float64\n",
      "dtypes: float64(5), object(4)\n",
      "memory usage: 2.9+ MB\n"
     ]
    }
   ],
   "source": [
    "datas.info()"
   ]
  },
  {
   "cell_type": "code",
   "execution_count": 7,
   "id": "d50d3239",
   "metadata": {},
   "outputs": [
    {
     "data": {
      "text/plain": [
       "location                     object\n",
       "date                         object\n",
       "vaccine                      object\n",
       "source_url                   object\n",
       "total_vaccinations          float64\n",
       "people_vaccinated           float64\n",
       "people_fully_vaccinated     float64\n",
       "total_boosters              float64\n",
       "people_partly_vaccinated    float64\n",
       "dtype: object"
      ]
     },
     "execution_count": 7,
     "metadata": {},
     "output_type": "execute_result"
    }
   ],
   "source": [
    "datas.dtypes"
   ]
  },
  {
   "cell_type": "code",
   "execution_count": 8,
   "id": "e308d725",
   "metadata": {},
   "outputs": [
    {
     "data": {
      "text/plain": [
       "location                        0\n",
       "date                            0\n",
       "vaccine                         0\n",
       "source_url                      0\n",
       "total_vaccinations            466\n",
       "people_vaccinated            2703\n",
       "people_fully_vaccinated      4036\n",
       "total_boosters              23259\n",
       "people_partly_vaccinated    42335\n",
       "dtype: int64"
      ]
     },
     "execution_count": 8,
     "metadata": {},
     "output_type": "execute_result"
    }
   ],
   "source": [
    "datas.isnull().sum()"
   ]
  },
  {
   "cell_type": "code",
   "execution_count": 9,
   "id": "967bb0c1",
   "metadata": {},
   "outputs": [
    {
     "data": {
      "text/plain": [
       "<AxesSubplot:>"
      ]
     },
     "execution_count": 9,
     "metadata": {},
     "output_type": "execute_result"
    },
    {
     "data": {
      "image/png": "[encoded data removed]",
      "text/plain": [
       "<Figure size 432x288 with 2 Axes>"
      ]
     },
     "metadata": {
      "needs_background": "light"
     },
     "output_type": "display_data"
    }
   ],
   "source": [
    "sns.heatmap(datas.isnull(),yticklabels=False,cmap=\"viridis\")"
   ]
  },
  {
   "cell_type": "code",
   "execution_count": 10,
   "id": "0d2eea67",
   "metadata": {},
   "outputs": [],
   "source": [
    "datas = datas.replace(np.nan,0)"
   ]
  },
  {
   "cell_type": "code",
   "execution_count": 11,
   "id": "c573444b",
   "metadata": {},
   "outputs": [
    {
     "data": {
      "text/plain": [
       "location                    0\n",
       "date                        0\n",
       "vaccine                     0\n",
       "source_url                  0\n",
       "total_vaccinations          0\n",
       "people_vaccinated           0\n",
       "people_fully_vaccinated     0\n",
       "total_boosters              0\n",
       "people_partly_vaccinated    0\n",
       "dtype: int64"
      ]
     },
     "execution_count": 11,
     "metadata": {},
     "output_type": "execute_result"
    }
   ],
   "source": [
    "datas.isnull().sum()"
   ]
  },
  {
   "cell_type": "code",
   "execution_count": 12,
   "id": "9cbe63a6",
   "metadata": {},
   "outputs": [
    {
     "data": {
      "text/plain": [
       "<AxesSubplot:>"
      ]
     },
     "execution_count": 12,
     "metadata": {},
     "output_type": "execute_result"
    },
    {
     "data": {
      "image/png": "[encoded data removed]",
      "text/plain": [
       "<Figure size 432x288 with 2 Axes>"
      ]
     },
     "metadata": {
      "needs_background": "light"
     },
     "output_type": "display_data"
    }
   ],
   "source": [
    "sns.heatmap(datas.isnull(),yticklabels=False,cmap=\"viridis\")"
   ]
  },
  {
   "cell_type": "code",
   "execution_count": 13,
   "id": "52b8a7bb",
   "metadata": {},
   "outputs": [
    {
     "data": {
      "text/plain": [
       "location                     object\n",
       "date                         object\n",
       "vaccine                      object\n",
       "source_url                   object\n",
       "total_vaccinations          float64\n",
       "people_vaccinated           float64\n",
       "people_fully_vaccinated     float64\n",
       "total_boosters              float64\n",
       "people_partly_vaccinated    float64\n",
       "dtype: object"
      ]
     },
     "execution_count": 13,
     "metadata": {},
     "output_type": "execute_result"
    }
   ],
   "source": [
    "datas.dtypes"
   ]
  },
  {
   "cell_type": "code",
   "execution_count": 14,
   "id": "0c4aecb7",
   "metadata": {},
   "outputs": [
    {
     "data": {
      "text/html": [
       "<div>\n",
       "<style scoped>\n",
       "    .dataframe tbody tr th:only-of-type {\n",
       "        vertical-align: middle;\n",
       "    }\n",
       "\n",
       "    .dataframe tbody tr th {\n",
       "        vertical-align: top;\n",
       "    }\n",
       "\n",
       "    .dataframe thead th {\n",
       "        text-align: right;\n",
       "    }\n",
       "</style>\n",
       "<table border=\"1\" class=\"dataframe\">\n",
       "  <thead>\n",
       "    <tr style=\"text-align: right;\">\n",
       "      <th></th>\n",
       "      <th>total_vaccinations</th>\n",
       "      <th>people_vaccinated</th>\n",
       "      <th>people_fully_vaccinated</th>\n",
       "      <th>total_boosters</th>\n",
       "      <th>people_partly_vaccinated</th>\n",
       "    </tr>\n",
       "  </thead>\n",
       "  <tbody>\n",
       "    <tr>\n",
       "      <th>count</th>\n",
       "      <td>4.234200e+04</td>\n",
       "      <td>4.234200e+04</td>\n",
       "      <td>4.234200e+04</td>\n",
       "      <td>4.234200e+04</td>\n",
       "      <td>4.234200e+04</td>\n",
       "    </tr>\n",
       "    <tr>\n",
       "      <th>mean</th>\n",
       "      <td>4.218928e+07</td>\n",
       "      <td>1.557758e+07</td>\n",
       "      <td>1.145038e+07</td>\n",
       "      <td>1.415322e+06</td>\n",
       "      <td>2.783818e+03</td>\n",
       "    </tr>\n",
       "    <tr>\n",
       "      <th>std</th>\n",
       "      <td>2.113938e+08</td>\n",
       "      <td>6.447911e+07</td>\n",
       "      <td>4.931558e+07</td>\n",
       "      <td>7.357271e+06</td>\n",
       "      <td>2.168326e+05</td>\n",
       "    </tr>\n",
       "    <tr>\n",
       "      <th>min</th>\n",
       "      <td>0.000000e+00</td>\n",
       "      <td>0.000000e+00</td>\n",
       "      <td>0.000000e+00</td>\n",
       "      <td>0.000000e+00</td>\n",
       "      <td>0.000000e+00</td>\n",
       "    </tr>\n",
       "    <tr>\n",
       "      <th>25%</th>\n",
       "      <td>4.638955e+05</td>\n",
       "      <td>1.913478e+05</td>\n",
       "      <td>5.414100e+04</td>\n",
       "      <td>0.000000e+00</td>\n",
       "      <td>0.000000e+00</td>\n",
       "    </tr>\n",
       "    <tr>\n",
       "      <th>50%</th>\n",
       "      <td>3.223602e+06</td>\n",
       "      <td>1.570356e+06</td>\n",
       "      <td>9.735310e+05</td>\n",
       "      <td>0.000000e+00</td>\n",
       "      <td>0.000000e+00</td>\n",
       "    </tr>\n",
       "    <tr>\n",
       "      <th>75%</th>\n",
       "      <td>1.570089e+07</td>\n",
       "      <td>7.267370e+06</td>\n",
       "      <td>5.645384e+06</td>\n",
       "      <td>9.560250e+03</td>\n",
       "      <td>0.000000e+00</td>\n",
       "    </tr>\n",
       "    <tr>\n",
       "      <th>max</th>\n",
       "      <td>3.165486e+09</td>\n",
       "      <td>1.269302e+09</td>\n",
       "      <td>1.234540e+09</td>\n",
       "      <td>5.547280e+08</td>\n",
       "      <td>1.818530e+07</td>\n",
       "    </tr>\n",
       "  </tbody>\n",
       "</table>\n",
       "</div>"
      ],
      "text/plain": [
       "       total_vaccinations  people_vaccinated  people_fully_vaccinated  \\\n",
       "count        4.234200e+04       4.234200e+04             4.234200e+04   \n",
       "mean         4.218928e+07       1.557758e+07             1.145038e+07   \n",
       "std          2.113938e+08       6.447911e+07             4.931558e+07   \n",
       "min          0.000000e+00       0.000000e+00             0.000000e+00   \n",
       "25%          4.638955e+05       1.913478e+05             5.414100e+04   \n",
       "50%          3.223602e+06       1.570356e+06             9.735310e+05   \n",
       "75%          1.570089e+07       7.267370e+06             5.645384e+06   \n",
       "max          3.165486e+09       1.269302e+09             1.234540e+09   \n",
       "\n",
       "       total_boosters  people_partly_vaccinated  \n",
       "count    4.234200e+04              4.234200e+04  \n",
       "mean     1.415322e+06              2.783818e+03  \n",
       "std      7.357271e+06              2.168326e+05  \n",
       "min      0.000000e+00              0.000000e+00  \n",
       "25%      0.000000e+00              0.000000e+00  \n",
       "50%      0.000000e+00              0.000000e+00  \n",
       "75%      9.560250e+03              0.000000e+00  \n",
       "max      5.547280e+08              1.818530e+07  "
      ]
     },
     "execution_count": 14,
     "metadata": {},
     "output_type": "execute_result"
    }
   ],
   "source": [
    "datas.describe()"
   ]
  },
  {
   "cell_type": "code",
   "execution_count": 15,
   "id": "39b4d624",
   "metadata": {},
   "outputs": [
    {
     "name": "stderr",
     "output_type": "stream",
     "text": [
      "C:\\Users\\Anubha\\AppData\\Local\\Temp/ipykernel_28632/3801864667.py:1: FutureWarning: Dropping of nuisance columns in DataFrame reductions (with 'numeric_only=None') is deprecated; in a future version this will raise TypeError.  Select only valid columns before calling the reduction.\n",
      "  datas.median()\n"
     ]
    },
    {
     "data": {
      "text/plain": [
       "total_vaccinations          3223602.5\n",
       "people_vaccinated           1570356.0\n",
       "people_fully_vaccinated      973531.0\n",
       "total_boosters                    0.0\n",
       "people_partly_vaccinated          0.0\n",
       "dtype: float64"
      ]
     },
     "execution_count": 15,
     "metadata": {},
     "output_type": "execute_result"
    }
   ],
   "source": [
    "datas.median()"
   ]
  },
  {
   "cell_type": "code",
   "execution_count": 16,
   "id": "96f5aa7d",
   "metadata": {},
   "outputs": [],
   "source": [
    "df = pd.read_csv('https://raw.githubusercontent.com/AnubhaT-code/covid-19-data/master/public/data/latest/owid-covid-latest.csv')"
   ]
  },
  {
   "cell_type": "code",
   "execution_count": 17,
   "id": "192058ec",
   "metadata": {},
   "outputs": [
    {
     "data": {
      "text/html": [
       "<div>\n",
       "<style scoped>\n",
       "    .dataframe tbody tr th:only-of-type {\n",
       "        vertical-align: middle;\n",
       "    }\n",
       "\n",
       "    .dataframe tbody tr th {\n",
       "        vertical-align: top;\n",
       "    }\n",
       "\n",
       "    .dataframe thead th {\n",
       "        text-align: right;\n",
       "    }\n",
       "</style>\n",
       "<table border=\"1\" class=\"dataframe\">\n",
       "  <thead>\n",
       "    <tr style=\"text-align: right;\">\n",
       "      <th></th>\n",
       "      <th>iso_code</th>\n",
       "      <th>continent</th>\n",
       "      <th>location</th>\n",
       "      <th>last_updated_date</th>\n",
       "      <th>total_cases</th>\n",
       "      <th>new_cases</th>\n",
       "      <th>new_cases_smoothed</th>\n",
       "      <th>total_deaths</th>\n",
       "      <th>new_deaths</th>\n",
       "      <th>new_deaths_smoothed</th>\n",
       "      <th>...</th>\n",
       "      <th>female_smokers</th>\n",
       "      <th>male_smokers</th>\n",
       "      <th>handwashing_facilities</th>\n",
       "      <th>hospital_beds_per_thousand</th>\n",
       "      <th>life_expectancy</th>\n",
       "      <th>human_development_index</th>\n",
       "      <th>excess_mortality_cumulative_absolute</th>\n",
       "      <th>excess_mortality_cumulative</th>\n",
       "      <th>excess_mortality</th>\n",
       "      <th>excess_mortality_cumulative_per_million</th>\n",
       "    </tr>\n",
       "  </thead>\n",
       "  <tbody>\n",
       "    <tr>\n",
       "      <th>221</th>\n",
       "      <td>UZB</td>\n",
       "      <td>Asia</td>\n",
       "      <td>Uzbekistan</td>\n",
       "      <td>2022-03-08</td>\n",
       "      <td>236994.0</td>\n",
       "      <td>27.0</td>\n",
       "      <td>70.429</td>\n",
       "      <td>1637.0</td>\n",
       "      <td>0.0</td>\n",
       "      <td>0.143</td>\n",
       "      <td>...</td>\n",
       "      <td>1.3</td>\n",
       "      <td>24.7</td>\n",
       "      <td>NaN</td>\n",
       "      <td>4.000</td>\n",
       "      <td>71.72</td>\n",
       "      <td>0.720</td>\n",
       "      <td>NaN</td>\n",
       "      <td>NaN</td>\n",
       "      <td>NaN</td>\n",
       "      <td>NaN</td>\n",
       "    </tr>\n",
       "    <tr>\n",
       "      <th>84</th>\n",
       "      <td>GRD</td>\n",
       "      <td>North America</td>\n",
       "      <td>Grenada</td>\n",
       "      <td>2022-03-08</td>\n",
       "      <td>13690.0</td>\n",
       "      <td>0.0</td>\n",
       "      <td>0.000</td>\n",
       "      <td>216.0</td>\n",
       "      <td>0.0</td>\n",
       "      <td>0.000</td>\n",
       "      <td>...</td>\n",
       "      <td>NaN</td>\n",
       "      <td>NaN</td>\n",
       "      <td>NaN</td>\n",
       "      <td>3.700</td>\n",
       "      <td>72.40</td>\n",
       "      <td>0.779</td>\n",
       "      <td>NaN</td>\n",
       "      <td>NaN</td>\n",
       "      <td>NaN</td>\n",
       "      <td>NaN</td>\n",
       "    </tr>\n",
       "    <tr>\n",
       "      <th>10</th>\n",
       "      <td>ABW</td>\n",
       "      <td>North America</td>\n",
       "      <td>Aruba</td>\n",
       "      <td>2022-03-08</td>\n",
       "      <td>33732.0</td>\n",
       "      <td>0.0</td>\n",
       "      <td>6.857</td>\n",
       "      <td>212.0</td>\n",
       "      <td>0.0</td>\n",
       "      <td>0.143</td>\n",
       "      <td>...</td>\n",
       "      <td>NaN</td>\n",
       "      <td>NaN</td>\n",
       "      <td>NaN</td>\n",
       "      <td>NaN</td>\n",
       "      <td>76.29</td>\n",
       "      <td>NaN</td>\n",
       "      <td>NaN</td>\n",
       "      <td>NaN</td>\n",
       "      <td>NaN</td>\n",
       "      <td>NaN</td>\n",
       "    </tr>\n",
       "    <tr>\n",
       "      <th>111</th>\n",
       "      <td>KIR</td>\n",
       "      <td>Oceania</td>\n",
       "      <td>Kiribati</td>\n",
       "      <td>2022-03-08</td>\n",
       "      <td>3000.0</td>\n",
       "      <td>9.0</td>\n",
       "      <td>8.571</td>\n",
       "      <td>13.0</td>\n",
       "      <td>1.0</td>\n",
       "      <td>0.286</td>\n",
       "      <td>...</td>\n",
       "      <td>35.9</td>\n",
       "      <td>58.9</td>\n",
       "      <td>NaN</td>\n",
       "      <td>1.900</td>\n",
       "      <td>68.37</td>\n",
       "      <td>0.630</td>\n",
       "      <td>NaN</td>\n",
       "      <td>NaN</td>\n",
       "      <td>NaN</td>\n",
       "      <td>NaN</td>\n",
       "    </tr>\n",
       "    <tr>\n",
       "      <th>183</th>\n",
       "      <td>SRB</td>\n",
       "      <td>Europe</td>\n",
       "      <td>Serbia</td>\n",
       "      <td>2022-03-08</td>\n",
       "      <td>1930437.0</td>\n",
       "      <td>2588.0</td>\n",
       "      <td>2368.000</td>\n",
       "      <td>15488.0</td>\n",
       "      <td>25.0</td>\n",
       "      <td>29.714</td>\n",
       "      <td>...</td>\n",
       "      <td>37.7</td>\n",
       "      <td>40.2</td>\n",
       "      <td>97.719</td>\n",
       "      <td>5.609</td>\n",
       "      <td>76.00</td>\n",
       "      <td>0.806</td>\n",
       "      <td>NaN</td>\n",
       "      <td>NaN</td>\n",
       "      <td>NaN</td>\n",
       "      <td>NaN</td>\n",
       "    </tr>\n",
       "    <tr>\n",
       "      <th>202</th>\n",
       "      <td>SYR</td>\n",
       "      <td>Asia</td>\n",
       "      <td>Syria</td>\n",
       "      <td>2022-03-08</td>\n",
       "      <td>55140.0</td>\n",
       "      <td>55.0</td>\n",
       "      <td>68.000</td>\n",
       "      <td>3102.0</td>\n",
       "      <td>3.0</td>\n",
       "      <td>3.286</td>\n",
       "      <td>...</td>\n",
       "      <td>NaN</td>\n",
       "      <td>NaN</td>\n",
       "      <td>70.598</td>\n",
       "      <td>1.500</td>\n",
       "      <td>72.70</td>\n",
       "      <td>0.567</td>\n",
       "      <td>NaN</td>\n",
       "      <td>NaN</td>\n",
       "      <td>NaN</td>\n",
       "      <td>NaN</td>\n",
       "    </tr>\n",
       "    <tr>\n",
       "      <th>172</th>\n",
       "      <td>RWA</td>\n",
       "      <td>Africa</td>\n",
       "      <td>Rwanda</td>\n",
       "      <td>2022-03-08</td>\n",
       "      <td>129567.0</td>\n",
       "      <td>7.0</td>\n",
       "      <td>7.286</td>\n",
       "      <td>1459.0</td>\n",
       "      <td>1.0</td>\n",
       "      <td>0.286</td>\n",
       "      <td>...</td>\n",
       "      <td>4.7</td>\n",
       "      <td>21.0</td>\n",
       "      <td>4.617</td>\n",
       "      <td>NaN</td>\n",
       "      <td>69.02</td>\n",
       "      <td>0.543</td>\n",
       "      <td>NaN</td>\n",
       "      <td>NaN</td>\n",
       "      <td>NaN</td>\n",
       "      <td>NaN</td>\n",
       "    </tr>\n",
       "    <tr>\n",
       "      <th>62</th>\n",
       "      <td>SLV</td>\n",
       "      <td>North America</td>\n",
       "      <td>El Salvador</td>\n",
       "      <td>2022-03-08</td>\n",
       "      <td>156364.0</td>\n",
       "      <td>0.0</td>\n",
       "      <td>0.000</td>\n",
       "      <td>4092.0</td>\n",
       "      <td>1.0</td>\n",
       "      <td>2.571</td>\n",
       "      <td>...</td>\n",
       "      <td>2.5</td>\n",
       "      <td>18.8</td>\n",
       "      <td>90.650</td>\n",
       "      <td>1.300</td>\n",
       "      <td>73.32</td>\n",
       "      <td>0.673</td>\n",
       "      <td>NaN</td>\n",
       "      <td>NaN</td>\n",
       "      <td>NaN</td>\n",
       "      <td>NaN</td>\n",
       "    </tr>\n",
       "    <tr>\n",
       "      <th>43</th>\n",
       "      <td>CHN</td>\n",
       "      <td>Asia</td>\n",
       "      <td>China</td>\n",
       "      <td>2022-03-08</td>\n",
       "      <td>111857.0</td>\n",
       "      <td>337.0</td>\n",
       "      <td>301.000</td>\n",
       "      <td>4636.0</td>\n",
       "      <td>0.0</td>\n",
       "      <td>0.000</td>\n",
       "      <td>...</td>\n",
       "      <td>1.9</td>\n",
       "      <td>48.4</td>\n",
       "      <td>NaN</td>\n",
       "      <td>4.340</td>\n",
       "      <td>76.91</td>\n",
       "      <td>0.761</td>\n",
       "      <td>NaN</td>\n",
       "      <td>NaN</td>\n",
       "      <td>NaN</td>\n",
       "      <td>NaN</td>\n",
       "    </tr>\n",
       "    <tr>\n",
       "      <th>205</th>\n",
       "      <td>TZA</td>\n",
       "      <td>Africa</td>\n",
       "      <td>Tanzania</td>\n",
       "      <td>2022-03-08</td>\n",
       "      <td>33620.0</td>\n",
       "      <td>0.0</td>\n",
       "      <td>0.000</td>\n",
       "      <td>798.0</td>\n",
       "      <td>0.0</td>\n",
       "      <td>0.000</td>\n",
       "      <td>...</td>\n",
       "      <td>3.3</td>\n",
       "      <td>26.7</td>\n",
       "      <td>47.953</td>\n",
       "      <td>0.700</td>\n",
       "      <td>65.46</td>\n",
       "      <td>0.529</td>\n",
       "      <td>NaN</td>\n",
       "      <td>NaN</td>\n",
       "      <td>NaN</td>\n",
       "      <td>NaN</td>\n",
       "    </tr>\n",
       "  </tbody>\n",
       "</table>\n",
       "<p>10 rows × 67 columns</p>\n",
       "</div>"
      ],
      "text/plain": [
       "    iso_code      continent     location last_updated_date  total_cases  \\\n",
       "221      UZB           Asia   Uzbekistan        2022-03-08     236994.0   \n",
       "84       GRD  North America      Grenada        2022-03-08      13690.0   \n",
       "10       ABW  North America        Aruba        2022-03-08      33732.0   \n",
       "111      KIR        Oceania     Kiribati        2022-03-08       3000.0   \n",
       "183      SRB         Europe       Serbia        2022-03-08    1930437.0   \n",
       "202      SYR           Asia        Syria        2022-03-08      55140.0   \n",
       "172      RWA         Africa       Rwanda        2022-03-08     129567.0   \n",
       "62       SLV  North America  El Salvador        2022-03-08     156364.0   \n",
       "43       CHN           Asia        China        2022-03-08     111857.0   \n",
       "205      TZA         Africa     Tanzania        2022-03-08      33620.0   \n",
       "\n",
       "     new_cases  new_cases_smoothed  total_deaths  new_deaths  \\\n",
       "221       27.0              70.429        1637.0         0.0   \n",
       "84         0.0               0.000         216.0         0.0   \n",
       "10         0.0               6.857         212.0         0.0   \n",
       "111        9.0               8.571          13.0         1.0   \n",
       "183     2588.0            2368.000       15488.0        25.0   \n",
       "202       55.0              68.000        3102.0         3.0   \n",
       "172        7.0               7.286        1459.0         1.0   \n",
       "62         0.0               0.000        4092.0         1.0   \n",
       "43       337.0             301.000        4636.0         0.0   \n",
       "205        0.0               0.000         798.0         0.0   \n",
       "\n",
       "     new_deaths_smoothed  ...  female_smokers  male_smokers  \\\n",
       "221                0.143  ...             1.3          24.7   \n",
       "84                 0.000  ...             NaN           NaN   \n",
       "10                 0.143  ...             NaN           NaN   \n",
       "111                0.286  ...            35.9          58.9   \n",
       "183               29.714  ...            37.7          40.2   \n",
       "202                3.286  ...             NaN           NaN   \n",
       "172                0.286  ...             4.7          21.0   \n",
       "62                 2.571  ...             2.5          18.8   \n",
       "43                 0.000  ...             1.9          48.4   \n",
       "205                0.000  ...             3.3          26.7   \n",
       "\n",
       "     handwashing_facilities  hospital_beds_per_thousand  life_expectancy  \\\n",
       "221                     NaN                       4.000            71.72   \n",
       "84                      NaN                       3.700            72.40   \n",
       "10                      NaN                         NaN            76.29   \n",
       "111                     NaN                       1.900            68.37   \n",
       "183                  97.719                       5.609            76.00   \n",
       "202                  70.598                       1.500            72.70   \n",
       "172                   4.617                         NaN            69.02   \n",
       "62                   90.650                       1.300            73.32   \n",
       "43                      NaN                       4.340            76.91   \n",
       "205                  47.953                       0.700            65.46   \n",
       "\n",
       "     human_development_index  excess_mortality_cumulative_absolute  \\\n",
       "221                    0.720                                   NaN   \n",
       "84                     0.779                                   NaN   \n",
       "10                       NaN                                   NaN   \n",
       "111                    0.630                                   NaN   \n",
       "183                    0.806                                   NaN   \n",
       "202                    0.567                                   NaN   \n",
       "172                    0.543                                   NaN   \n",
       "62                     0.673                                   NaN   \n",
       "43                     0.761                                   NaN   \n",
       "205                    0.529                                   NaN   \n",
       "\n",
       "     excess_mortality_cumulative  excess_mortality  \\\n",
       "221                          NaN               NaN   \n",
       "84                           NaN               NaN   \n",
       "10                           NaN               NaN   \n",
       "111                          NaN               NaN   \n",
       "183                          NaN               NaN   \n",
       "202                          NaN               NaN   \n",
       "172                          NaN               NaN   \n",
       "62                           NaN               NaN   \n",
       "43                           NaN               NaN   \n",
       "205                          NaN               NaN   \n",
       "\n",
       "     excess_mortality_cumulative_per_million  \n",
       "221                                      NaN  \n",
       "84                                       NaN  \n",
       "10                                       NaN  \n",
       "111                                      NaN  \n",
       "183                                      NaN  \n",
       "202                                      NaN  \n",
       "172                                      NaN  \n",
       "62                                       NaN  \n",
       "43                                       NaN  \n",
       "205                                      NaN  \n",
       "\n",
       "[10 rows x 67 columns]"
      ]
     },
     "execution_count": 17,
     "metadata": {},
     "output_type": "execute_result"
    }
   ],
   "source": [
    "df.sample(10)"
   ]
  },
  {
   "cell_type": "code",
   "execution_count": 18,
   "id": "a352eadf",
   "metadata": {},
   "outputs": [
    {
     "data": {
      "text/plain": [
       "(231, 67)"
      ]
     },
     "execution_count": 18,
     "metadata": {},
     "output_type": "execute_result"
    }
   ],
   "source": [
    "df.shape"
   ]
  },
  {
   "cell_type": "code",
   "execution_count": 19,
   "id": "a767959a",
   "metadata": {},
   "outputs": [],
   "source": [
    "df = df.replace(np.nan,0)"
   ]
  },
  {
   "cell_type": "code",
   "execution_count": 20,
   "id": "49cb1db5",
   "metadata": {},
   "outputs": [
    {
     "data": {
      "text/html": [
       "<div>\n",
       "<style scoped>\n",
       "    .dataframe tbody tr th:only-of-type {\n",
       "        vertical-align: middle;\n",
       "    }\n",
       "\n",
       "    .dataframe tbody tr th {\n",
       "        vertical-align: top;\n",
       "    }\n",
       "\n",
       "    .dataframe thead th {\n",
       "        text-align: right;\n",
       "    }\n",
       "</style>\n",
       "<table border=\"1\" class=\"dataframe\">\n",
       "  <thead>\n",
       "    <tr style=\"text-align: right;\">\n",
       "      <th></th>\n",
       "      <th>iso_code</th>\n",
       "      <th>continent</th>\n",
       "      <th>location</th>\n",
       "      <th>last_updated_date</th>\n",
       "      <th>total_cases</th>\n",
       "      <th>new_cases</th>\n",
       "      <th>new_cases_smoothed</th>\n",
       "      <th>total_deaths</th>\n",
       "      <th>new_deaths</th>\n",
       "      <th>new_deaths_smoothed</th>\n",
       "      <th>...</th>\n",
       "      <th>female_smokers</th>\n",
       "      <th>male_smokers</th>\n",
       "      <th>handwashing_facilities</th>\n",
       "      <th>hospital_beds_per_thousand</th>\n",
       "      <th>life_expectancy</th>\n",
       "      <th>human_development_index</th>\n",
       "      <th>excess_mortality_cumulative_absolute</th>\n",
       "      <th>excess_mortality_cumulative</th>\n",
       "      <th>excess_mortality</th>\n",
       "      <th>excess_mortality_cumulative_per_million</th>\n",
       "    </tr>\n",
       "  </thead>\n",
       "  <tbody>\n",
       "    <tr>\n",
       "      <th>210</th>\n",
       "      <td>TTO</td>\n",
       "      <td>North America</td>\n",
       "      <td>Trinidad and Tobago</td>\n",
       "      <td>2022-03-08</td>\n",
       "      <td>130964.0</td>\n",
       "      <td>432.0</td>\n",
       "      <td>402.714</td>\n",
       "      <td>3667.0</td>\n",
       "      <td>2.0</td>\n",
       "      <td>5.000</td>\n",
       "      <td>...</td>\n",
       "      <td>0.0</td>\n",
       "      <td>0.0</td>\n",
       "      <td>89.443</td>\n",
       "      <td>3.00</td>\n",
       "      <td>73.51</td>\n",
       "      <td>0.796</td>\n",
       "      <td>0.0</td>\n",
       "      <td>0.0</td>\n",
       "      <td>0.0</td>\n",
       "      <td>0.0</td>\n",
       "    </tr>\n",
       "    <tr>\n",
       "      <th>40</th>\n",
       "      <td>CAF</td>\n",
       "      <td>Africa</td>\n",
       "      <td>Central African Republic</td>\n",
       "      <td>2022-03-08</td>\n",
       "      <td>14320.0</td>\n",
       "      <td>0.0</td>\n",
       "      <td>13.571</td>\n",
       "      <td>113.0</td>\n",
       "      <td>0.0</td>\n",
       "      <td>0.000</td>\n",
       "      <td>...</td>\n",
       "      <td>0.0</td>\n",
       "      <td>0.0</td>\n",
       "      <td>16.603</td>\n",
       "      <td>1.00</td>\n",
       "      <td>53.28</td>\n",
       "      <td>0.397</td>\n",
       "      <td>0.0</td>\n",
       "      <td>0.0</td>\n",
       "      <td>0.0</td>\n",
       "      <td>0.0</td>\n",
       "    </tr>\n",
       "    <tr>\n",
       "      <th>82</th>\n",
       "      <td>GRC</td>\n",
       "      <td>Europe</td>\n",
       "      <td>Greece</td>\n",
       "      <td>2022-03-08</td>\n",
       "      <td>2538168.0</td>\n",
       "      <td>21057.0</td>\n",
       "      <td>14185.143</td>\n",
       "      <td>26303.0</td>\n",
       "      <td>57.0</td>\n",
       "      <td>55.571</td>\n",
       "      <td>...</td>\n",
       "      <td>35.3</td>\n",
       "      <td>52.0</td>\n",
       "      <td>0.000</td>\n",
       "      <td>4.21</td>\n",
       "      <td>82.24</td>\n",
       "      <td>0.888</td>\n",
       "      <td>0.0</td>\n",
       "      <td>0.0</td>\n",
       "      <td>0.0</td>\n",
       "      <td>0.0</td>\n",
       "    </tr>\n",
       "    <tr>\n",
       "      <th>8</th>\n",
       "      <td>ARG</td>\n",
       "      <td>South America</td>\n",
       "      <td>Argentina</td>\n",
       "      <td>2022-03-08</td>\n",
       "      <td>8949362.0</td>\n",
       "      <td>6474.0</td>\n",
       "      <td>6455.143</td>\n",
       "      <td>126901.0</td>\n",
       "      <td>59.0</td>\n",
       "      <td>92.000</td>\n",
       "      <td>...</td>\n",
       "      <td>16.2</td>\n",
       "      <td>27.7</td>\n",
       "      <td>0.000</td>\n",
       "      <td>5.00</td>\n",
       "      <td>76.67</td>\n",
       "      <td>0.845</td>\n",
       "      <td>0.0</td>\n",
       "      <td>0.0</td>\n",
       "      <td>0.0</td>\n",
       "      <td>0.0</td>\n",
       "    </tr>\n",
       "    <tr>\n",
       "      <th>51</th>\n",
       "      <td>CUB</td>\n",
       "      <td>North America</td>\n",
       "      <td>Cuba</td>\n",
       "      <td>2022-03-08</td>\n",
       "      <td>1073951.0</td>\n",
       "      <td>447.0</td>\n",
       "      <td>527.571</td>\n",
       "      <td>8501.0</td>\n",
       "      <td>0.0</td>\n",
       "      <td>0.857</td>\n",
       "      <td>...</td>\n",
       "      <td>17.1</td>\n",
       "      <td>53.3</td>\n",
       "      <td>85.198</td>\n",
       "      <td>5.20</td>\n",
       "      <td>78.80</td>\n",
       "      <td>0.783</td>\n",
       "      <td>0.0</td>\n",
       "      <td>0.0</td>\n",
       "      <td>0.0</td>\n",
       "      <td>0.0</td>\n",
       "    </tr>\n",
       "    <tr>\n",
       "      <th>25</th>\n",
       "      <td>BOL</td>\n",
       "      <td>South America</td>\n",
       "      <td>Bolivia</td>\n",
       "      <td>2022-03-08</td>\n",
       "      <td>895424.0</td>\n",
       "      <td>326.0</td>\n",
       "      <td>273.143</td>\n",
       "      <td>21469.0</td>\n",
       "      <td>6.0</td>\n",
       "      <td>4.000</td>\n",
       "      <td>...</td>\n",
       "      <td>0.0</td>\n",
       "      <td>0.0</td>\n",
       "      <td>25.383</td>\n",
       "      <td>1.10</td>\n",
       "      <td>71.51</td>\n",
       "      <td>0.718</td>\n",
       "      <td>0.0</td>\n",
       "      <td>0.0</td>\n",
       "      <td>0.0</td>\n",
       "      <td>0.0</td>\n",
       "    </tr>\n",
       "    <tr>\n",
       "      <th>124</th>\n",
       "      <td>OWID_LMC</td>\n",
       "      <td>0</td>\n",
       "      <td>Lower middle income</td>\n",
       "      <td>2022-03-08</td>\n",
       "      <td>83967984.0</td>\n",
       "      <td>257924.0</td>\n",
       "      <td>228249.857</td>\n",
       "      <td>1283652.0</td>\n",
       "      <td>890.0</td>\n",
       "      <td>940.143</td>\n",
       "      <td>...</td>\n",
       "      <td>0.0</td>\n",
       "      <td>0.0</td>\n",
       "      <td>0.000</td>\n",
       "      <td>0.00</td>\n",
       "      <td>0.00</td>\n",
       "      <td>0.000</td>\n",
       "      <td>0.0</td>\n",
       "      <td>0.0</td>\n",
       "      <td>0.0</td>\n",
       "      <td>0.0</td>\n",
       "    </tr>\n",
       "    <tr>\n",
       "      <th>72</th>\n",
       "      <td>FJI</td>\n",
       "      <td>Oceania</td>\n",
       "      <td>Fiji</td>\n",
       "      <td>2022-03-08</td>\n",
       "      <td>64034.0</td>\n",
       "      <td>0.0</td>\n",
       "      <td>14.857</td>\n",
       "      <td>834.0</td>\n",
       "      <td>0.0</td>\n",
       "      <td>0.000</td>\n",
       "      <td>...</td>\n",
       "      <td>10.2</td>\n",
       "      <td>34.8</td>\n",
       "      <td>0.000</td>\n",
       "      <td>2.30</td>\n",
       "      <td>67.44</td>\n",
       "      <td>0.743</td>\n",
       "      <td>0.0</td>\n",
       "      <td>0.0</td>\n",
       "      <td>0.0</td>\n",
       "      <td>0.0</td>\n",
       "    </tr>\n",
       "    <tr>\n",
       "      <th>36</th>\n",
       "      <td>CMR</td>\n",
       "      <td>Africa</td>\n",
       "      <td>Cameroon</td>\n",
       "      <td>2022-03-08</td>\n",
       "      <td>119322.0</td>\n",
       "      <td>0.0</td>\n",
       "      <td>11.714</td>\n",
       "      <td>1926.0</td>\n",
       "      <td>0.0</td>\n",
       "      <td>0.429</td>\n",
       "      <td>...</td>\n",
       "      <td>0.0</td>\n",
       "      <td>0.0</td>\n",
       "      <td>2.735</td>\n",
       "      <td>1.30</td>\n",
       "      <td>59.29</td>\n",
       "      <td>0.563</td>\n",
       "      <td>0.0</td>\n",
       "      <td>0.0</td>\n",
       "      <td>0.0</td>\n",
       "      <td>0.0</td>\n",
       "    </tr>\n",
       "    <tr>\n",
       "      <th>37</th>\n",
       "      <td>CAN</td>\n",
       "      <td>North America</td>\n",
       "      <td>Canada</td>\n",
       "      <td>2022-03-08</td>\n",
       "      <td>3349164.0</td>\n",
       "      <td>4862.0</td>\n",
       "      <td>6002.857</td>\n",
       "      <td>37148.0</td>\n",
       "      <td>68.0</td>\n",
       "      <td>63.143</td>\n",
       "      <td>...</td>\n",
       "      <td>12.0</td>\n",
       "      <td>16.6</td>\n",
       "      <td>0.000</td>\n",
       "      <td>2.50</td>\n",
       "      <td>82.43</td>\n",
       "      <td>0.929</td>\n",
       "      <td>0.0</td>\n",
       "      <td>0.0</td>\n",
       "      <td>0.0</td>\n",
       "      <td>0.0</td>\n",
       "    </tr>\n",
       "  </tbody>\n",
       "</table>\n",
       "<p>10 rows × 67 columns</p>\n",
       "</div>"
      ],
      "text/plain": [
       "     iso_code      continent                  location last_updated_date  \\\n",
       "210       TTO  North America       Trinidad and Tobago        2022-03-08   \n",
       "40        CAF         Africa  Central African Republic        2022-03-08   \n",
       "82        GRC         Europe                    Greece        2022-03-08   \n",
       "8         ARG  South America                 Argentina        2022-03-08   \n",
       "51        CUB  North America                      Cuba        2022-03-08   \n",
       "25        BOL  South America                   Bolivia        2022-03-08   \n",
       "124  OWID_LMC              0       Lower middle income        2022-03-08   \n",
       "72        FJI        Oceania                      Fiji        2022-03-08   \n",
       "36        CMR         Africa                  Cameroon        2022-03-08   \n",
       "37        CAN  North America                    Canada        2022-03-08   \n",
       "\n",
       "     total_cases  new_cases  new_cases_smoothed  total_deaths  new_deaths  \\\n",
       "210     130964.0      432.0             402.714        3667.0         2.0   \n",
       "40       14320.0        0.0              13.571         113.0         0.0   \n",
       "82     2538168.0    21057.0           14185.143       26303.0        57.0   \n",
       "8      8949362.0     6474.0            6455.143      126901.0        59.0   \n",
       "51     1073951.0      447.0             527.571        8501.0         0.0   \n",
       "25      895424.0      326.0             273.143       21469.0         6.0   \n",
       "124   83967984.0   257924.0          228249.857     1283652.0       890.0   \n",
       "72       64034.0        0.0              14.857         834.0         0.0   \n",
       "36      119322.0        0.0              11.714        1926.0         0.0   \n",
       "37     3349164.0     4862.0            6002.857       37148.0        68.0   \n",
       "\n",
       "     new_deaths_smoothed  ...  female_smokers  male_smokers  \\\n",
       "210                5.000  ...             0.0           0.0   \n",
       "40                 0.000  ...             0.0           0.0   \n",
       "82                55.571  ...            35.3          52.0   \n",
       "8                 92.000  ...            16.2          27.7   \n",
       "51                 0.857  ...            17.1          53.3   \n",
       "25                 4.000  ...             0.0           0.0   \n",
       "124              940.143  ...             0.0           0.0   \n",
       "72                 0.000  ...            10.2          34.8   \n",
       "36                 0.429  ...             0.0           0.0   \n",
       "37                63.143  ...            12.0          16.6   \n",
       "\n",
       "     handwashing_facilities  hospital_beds_per_thousand  life_expectancy  \\\n",
       "210                  89.443                        3.00            73.51   \n",
       "40                   16.603                        1.00            53.28   \n",
       "82                    0.000                        4.21            82.24   \n",
       "8                     0.000                        5.00            76.67   \n",
       "51                   85.198                        5.20            78.80   \n",
       "25                   25.383                        1.10            71.51   \n",
       "124                   0.000                        0.00             0.00   \n",
       "72                    0.000                        2.30            67.44   \n",
       "36                    2.735                        1.30            59.29   \n",
       "37                    0.000                        2.50            82.43   \n",
       "\n",
       "     human_development_index  excess_mortality_cumulative_absolute  \\\n",
       "210                    0.796                                   0.0   \n",
       "40                     0.397                                   0.0   \n",
       "82                     0.888                                   0.0   \n",
       "8                      0.845                                   0.0   \n",
       "51                     0.783                                   0.0   \n",
       "25                     0.718                                   0.0   \n",
       "124                    0.000                                   0.0   \n",
       "72                     0.743                                   0.0   \n",
       "36                     0.563                                   0.0   \n",
       "37                     0.929                                   0.0   \n",
       "\n",
       "     excess_mortality_cumulative  excess_mortality  \\\n",
       "210                          0.0               0.0   \n",
       "40                           0.0               0.0   \n",
       "82                           0.0               0.0   \n",
       "8                            0.0               0.0   \n",
       "51                           0.0               0.0   \n",
       "25                           0.0               0.0   \n",
       "124                          0.0               0.0   \n",
       "72                           0.0               0.0   \n",
       "36                           0.0               0.0   \n",
       "37                           0.0               0.0   \n",
       "\n",
       "     excess_mortality_cumulative_per_million  \n",
       "210                                      0.0  \n",
       "40                                       0.0  \n",
       "82                                       0.0  \n",
       "8                                        0.0  \n",
       "51                                       0.0  \n",
       "25                                       0.0  \n",
       "124                                      0.0  \n",
       "72                                       0.0  \n",
       "36                                       0.0  \n",
       "37                                       0.0  \n",
       "\n",
       "[10 rows x 67 columns]"
      ]
     },
     "execution_count": 20,
     "metadata": {},
     "output_type": "execute_result"
    }
   ],
   "source": [
    "df.sample(10)"
   ]
  },
  {
   "cell_type": "code",
   "execution_count": 21,
   "id": "6368780b",
   "metadata": {},
   "outputs": [
    {
     "data": {
      "text/plain": [
       "(230, 66)"
      ]
     },
     "execution_count": 21,
     "metadata": {},
     "output_type": "execute_result"
    }
   ],
   "source": [
    "r = len(df.axes[0])-1 \n",
    "c = len(df.axes[1])-1 \n",
    "r,c"
   ]
  },
  {
   "cell_type": "code",
   "execution_count": null,
   "id": "feed3a9e",
   "metadata": {},
   "outputs": [],
   "source": [
    "\n"
   ]
  },
  {
   "cell_type": "code",
   "execution_count": 22,
   "id": "67e90200",
   "metadata": {},
   "outputs": [
    {
     "data": {
      "text/plain": [
       "iso_code                                    object\n",
       "continent                                   object\n",
       "location                                    object\n",
       "last_updated_date                           object\n",
       "total_cases                                float64\n",
       "                                            ...   \n",
       "human_development_index                    float64\n",
       "excess_mortality_cumulative_absolute       float64\n",
       "excess_mortality_cumulative                float64\n",
       "excess_mortality                           float64\n",
       "excess_mortality_cumulative_per_million    float64\n",
       "Length: 67, dtype: object"
      ]
     },
     "execution_count": 22,
     "metadata": {},
     "output_type": "execute_result"
    }
   ],
   "source": [
    "df.dtypes"
   ]
  },
  {
   "cell_type": "code",
   "execution_count": 23,
   "id": "e7d4f0fa",
   "metadata": {},
   "outputs": [
    {
     "name": "stdout",
     "output_type": "stream",
     "text": [
      "<class 'pandas.core.frame.DataFrame'>\n",
      "RangeIndex: 231 entries, 0 to 230\n",
      "Data columns (total 67 columns):\n",
      " #   Column                                      Non-Null Count  Dtype  \n",
      "---  ------                                      --------------  -----  \n",
      " 0   iso_code                                    231 non-null    object \n",
      " 1   continent                                   231 non-null    object \n",
      " 2   location                                    231 non-null    object \n",
      " 3   last_updated_date                           231 non-null    object \n",
      " 4   total_cases                                 231 non-null    float64\n",
      " 5   new_cases                                   231 non-null    float64\n",
      " 6   new_cases_smoothed                          231 non-null    float64\n",
      " 7   total_deaths                                231 non-null    float64\n",
      " 8   new_deaths                                  231 non-null    float64\n",
      " 9   new_deaths_smoothed                         231 non-null    float64\n",
      " 10  total_cases_per_million                     231 non-null    float64\n",
      " 11  new_cases_per_million                       231 non-null    float64\n",
      " 12  new_cases_smoothed_per_million              231 non-null    float64\n",
      " 13  total_deaths_per_million                    231 non-null    float64\n",
      " 14  new_deaths_per_million                      231 non-null    float64\n",
      " 15  new_deaths_smoothed_per_million             231 non-null    float64\n",
      " 16  reproduction_rate                           231 non-null    float64\n",
      " 17  icu_patients                                231 non-null    float64\n",
      " 18  icu_patients_per_million                    231 non-null    float64\n",
      " 19  hosp_patients                               231 non-null    float64\n",
      " 20  hosp_patients_per_million                   231 non-null    float64\n",
      " 21  weekly_icu_admissions                       231 non-null    float64\n",
      " 22  weekly_icu_admissions_per_million           231 non-null    float64\n",
      " 23  weekly_hosp_admissions                      231 non-null    float64\n",
      " 24  weekly_hosp_admissions_per_million          231 non-null    float64\n",
      " 25  new_tests                                   231 non-null    float64\n",
      " 26  total_tests                                 231 non-null    float64\n",
      " 27  total_tests_per_thousand                    231 non-null    float64\n",
      " 28  new_tests_per_thousand                      231 non-null    float64\n",
      " 29  new_tests_smoothed                          231 non-null    float64\n",
      " 30  new_tests_smoothed_per_thousand             231 non-null    float64\n",
      " 31  positive_rate                               231 non-null    float64\n",
      " 32  tests_per_case                              231 non-null    float64\n",
      " 33  tests_units                                 231 non-null    object \n",
      " 34  total_vaccinations                          231 non-null    float64\n",
      " 35  people_vaccinated                           231 non-null    float64\n",
      " 36  people_fully_vaccinated                     231 non-null    float64\n",
      " 37  total_boosters                              231 non-null    float64\n",
      " 38  new_vaccinations                            231 non-null    float64\n",
      " 39  new_vaccinations_smoothed                   231 non-null    float64\n",
      " 40  total_vaccinations_per_hundred              231 non-null    float64\n",
      " 41  people_vaccinated_per_hundred               231 non-null    float64\n",
      " 42  people_fully_vaccinated_per_hundred         231 non-null    float64\n",
      " 43  total_boosters_per_hundred                  231 non-null    float64\n",
      " 44  new_vaccinations_smoothed_per_million       231 non-null    float64\n",
      " 45  new_people_vaccinated_smoothed              231 non-null    float64\n",
      " 46  new_people_vaccinated_smoothed_per_hundred  231 non-null    float64\n",
      " 47  stringency_index                            231 non-null    float64\n",
      " 48  population                                  231 non-null    float64\n",
      " 49  population_density                          231 non-null    float64\n",
      " 50  median_age                                  231 non-null    float64\n",
      " 51  aged_65_older                               231 non-null    float64\n",
      " 52  aged_70_older                               231 non-null    float64\n",
      " 53  gdp_per_capita                              231 non-null    float64\n",
      " 54  extreme_poverty                             231 non-null    float64\n",
      " 55  cardiovasc_death_rate                       231 non-null    float64\n",
      " 56  diabetes_prevalence                         231 non-null    float64\n",
      " 57  female_smokers                              231 non-null    float64\n",
      " 58  male_smokers                                231 non-null    float64\n",
      " 59  handwashing_facilities                      231 non-null    float64\n",
      " 60  hospital_beds_per_thousand                  231 non-null    float64\n",
      " 61  life_expectancy                             231 non-null    float64\n",
      " 62  human_development_index                     231 non-null    float64\n",
      " 63  excess_mortality_cumulative_absolute        231 non-null    float64\n",
      " 64  excess_mortality_cumulative                 231 non-null    float64\n",
      " 65  excess_mortality                            231 non-null    float64\n",
      " 66  excess_mortality_cumulative_per_million     231 non-null    float64\n",
      "dtypes: float64(62), object(5)\n",
      "memory usage: 121.0+ KB\n"
     ]
    }
   ],
   "source": [
    "df.info()"
   ]
  },
  {
   "cell_type": "code",
   "execution_count": 24,
   "id": "b5918f97",
   "metadata": {},
   "outputs": [
    {
     "data": {
      "text/plain": [
       "0"
      ]
     },
     "execution_count": 24,
     "metadata": {},
     "output_type": "execute_result"
    }
   ],
   "source": [
    "df['population'].isnull().sum()"
   ]
  },
  {
   "cell_type": "code",
   "execution_count": 25,
   "id": "a97a678b",
   "metadata": {},
   "outputs": [
    {
     "data": {
      "text/plain": [
       "0"
      ]
     },
     "execution_count": 25,
     "metadata": {},
     "output_type": "execute_result"
    }
   ],
   "source": [
    "df['people_fully_vaccinated'].isnull().sum()"
   ]
  },
  {
   "cell_type": "code",
   "execution_count": 26,
   "id": "3656e989",
   "metadata": {},
   "outputs": [
    {
     "data": {
      "text/plain": [
       "Index(['iso_code', 'continent', 'location', 'last_updated_date', 'total_cases',\n",
       "       'new_cases', 'new_cases_smoothed', 'total_deaths', 'new_deaths',\n",
       "       'new_deaths_smoothed', 'total_cases_per_million',\n",
       "       'new_cases_per_million', 'new_cases_smoothed_per_million',\n",
       "       'total_deaths_per_million', 'new_deaths_per_million',\n",
       "       'new_deaths_smoothed_per_million', 'reproduction_rate', 'icu_patients',\n",
       "       'icu_patients_per_million', 'hosp_patients',\n",
       "       'hosp_patients_per_million', 'weekly_icu_admissions',\n",
       "       'weekly_icu_admissions_per_million', 'weekly_hosp_admissions',\n",
       "       'weekly_hosp_admissions_per_million', 'new_tests', 'total_tests',\n",
       "       'total_tests_per_thousand', 'new_tests_per_thousand',\n",
       "       'new_tests_smoothed', 'new_tests_smoothed_per_thousand',\n",
       "       'positive_rate', 'tests_per_case', 'tests_units', 'total_vaccinations',\n",
       "       'people_vaccinated', 'people_fully_vaccinated', 'total_boosters',\n",
       "       'new_vaccinations', 'new_vaccinations_smoothed',\n",
       "       'total_vaccinations_per_hundred', 'people_vaccinated_per_hundred',\n",
       "       'people_fully_vaccinated_per_hundred', 'total_boosters_per_hundred',\n",
       "       'new_vaccinations_smoothed_per_million',\n",
       "       'new_people_vaccinated_smoothed',\n",
       "       'new_people_vaccinated_smoothed_per_hundred', 'stringency_index',\n",
       "       'population', 'population_density', 'median_age', 'aged_65_older',\n",
       "       'aged_70_older', 'gdp_per_capita', 'extreme_poverty',\n",
       "       'cardiovasc_death_rate', 'diabetes_prevalence', 'female_smokers',\n",
       "       'male_smokers', 'handwashing_facilities', 'hospital_beds_per_thousand',\n",
       "       'life_expectancy', 'human_development_index',\n",
       "       'excess_mortality_cumulative_absolute', 'excess_mortality_cumulative',\n",
       "       'excess_mortality', 'excess_mortality_cumulative_per_million'],\n",
       "      dtype='object')"
      ]
     },
     "execution_count": 26,
     "metadata": {},
     "output_type": "execute_result"
    }
   ],
   "source": [
    "df.columns"
   ]
  },
  {
   "cell_type": "code",
   "execution_count": 27,
   "id": "baafca0e",
   "metadata": {},
   "outputs": [
    {
     "data": {
      "text/plain": [
       "39835428.0"
      ]
     },
     "execution_count": 27,
     "metadata": {},
     "output_type": "execute_result"
    }
   ],
   "source": [
    "df['population'].values[0]"
   ]
  },
  {
   "cell_type": "code",
   "execution_count": 28,
   "id": "c97a691a",
   "metadata": {},
   "outputs": [
    {
     "name": "stdout",
     "output_type": "stream",
     "text": [
      "2\n"
     ]
    }
   ],
   "source": [
    "c = df.columns.get_loc(\"location\")\n",
    "print(c)"
   ]
  },
  {
   "cell_type": "code",
   "execution_count": 29,
   "id": "cd1f6173",
   "metadata": {},
   "outputs": [
    {
     "name": "stdout",
     "output_type": "stream",
     "text": [
      "0       NaN\n",
      "1       NaN\n",
      "2       NaN\n",
      "3      True\n",
      "4       NaN\n",
      "       ... \n",
      "226     NaN\n",
      "227     NaN\n",
      "228     NaN\n",
      "229     NaN\n",
      "230     NaN\n",
      "Name: population, Length: 231, dtype: object\n"
     ]
    }
   ],
   "source": [
    "print( (df['population']!='NaN').where(df['iso_code'] == 'DZA'))"
   ]
  },
  {
   "cell_type": "code",
   "execution_count": 30,
   "id": "3d521419",
   "metadata": {},
   "outputs": [
    {
     "data": {
      "text/plain": [
       "'SWE'"
      ]
     },
     "execution_count": 30,
     "metadata": {},
     "output_type": "execute_result"
    }
   ],
   "source": [
    "myvar = pd.Series(df['iso_code'])\n",
    "myvar[200]\n"
   ]
  },
  {
   "cell_type": "code",
   "execution_count": 31,
   "id": "128b6b64",
   "metadata": {},
   "outputs": [
    {
     "data": {
      "text/plain": [
       "1393409033.0"
      ]
     },
     "execution_count": 31,
     "metadata": {},
     "output_type": "execute_result"
    }
   ],
   "source": [
    "c = 0\n",
    "f = 0\n",
    "for x in myvar:\n",
    "    if x == \"IND\":\n",
    "        f = c\n",
    "    c=c+1\n",
    "df['population'].values[f]"
   ]
  },
  {
   "cell_type": "code",
   "execution_count": 32,
   "id": "10e23243",
   "metadata": {},
   "outputs": [
    {
     "data": {
      "text/plain": [
       "802358408.0"
      ]
     },
     "execution_count": 32,
     "metadata": {},
     "output_type": "execute_result"
    }
   ],
   "source": [
    "df['people_fully_vaccinated'].values[f]"
   ]
  },
  {
   "cell_type": "code",
   "execution_count": 33,
   "id": "d0b63563",
   "metadata": {},
   "outputs": [],
   "source": [
    "fullyVaccineRate = []\n",
    "\n",
    "f = 0\n",
    "for x in myvar:\n",
    "    if df['population'].values[f]==0:\n",
    "        continue\n",
    "    calc = (df['people_fully_vaccinated'].values[f]*100.0)/df['population'].values[f]\n",
    "    fullyVaccineRate.append(calc)\n",
    "    f = f+1"
   ]
  },
  {
   "cell_type": "code",
   "execution_count": 34,
   "id": "269db330",
   "metadata": {},
   "outputs": [
    {
     "name": "stdout",
     "output_type": "stream",
     "text": [
      "[10.749059856969529, 12.812021930129356, 41.72594984778627, 0.0, 0.0, 16.529463958315546, 63.13388429752066, 62.11712989222916, 79.437544631088, 31.02891789033357, 75.17328233592984, 65.29704237676756, 79.58864701658125, 72.67483881583604, 46.90563087772455, 38.768599747048476, 0.0, 52.50084883965216, 52.1421024093873, 0.0, 78.16261121800663, 51.18432263561488, 0.0, 74.48141467499839, 73.69355045518657, 47.36351992438732, 0.0, 0.0, 51.232417279871854, 72.86696931986808, 56.94704664234296, 91.61329190183271, 29.721509920388943, 5.3615332339989905, 0.0749137382298082, 81.82502101030505, 2.986538257676186, 81.3881260052265, 53.407806713282234, 89.81623507473908, 15.854310184152926, 0.0, 89.90064313799625, 85.4816670642549, 65.74861612042997, 33.903536022042736, 0.0, 72.76917823810608, 74.47582268561932, 14.810002014886802, 54.68842678353423, 87.3743560635045, 59.630088108934686, 72.0187945379769, 63.863612777147914, 0.4795135932060697, 81.57656354340442, 10.006914808166458, 41.02006318239761, 53.53865364752083, 76.00064153040667, 28.941870513613747, 65.32914013960267, 14.33342230553883, 0.0, 63.41696423450861, 0.0, 0.0, 64.72178812607619, 72.60128194080585, 0.0, 0.0, 68.76882131888506, 76.36496615847454, 77.66488238260509, 63.9947758499862, 0.0, 0.0, 31.39566000372383, 74.92596078513075, 15.095051299427508, 121.52503635985872, 72.82046317396423, 67.70415699514666, 33.184975445737294, 31.324758074962514, 0.0, 0.0, 16.825833916318118, 41.75805265908248, 0.9147106188932758, 73.31084106780354, 45.34874014632226, 69.83900010592099, 64.10719479286314, 78.49465281242543, 57.58240322818404, 53.56071549225901]\n"
     ]
    }
   ],
   "source": [
    "print(fullyVaccineRate)"
   ]
  },
  {
   "cell_type": "code",
   "execution_count": 35,
   "id": "a0ae49f3",
   "metadata": {},
   "outputs": [
    {
     "data": {
      "text/plain": [
       "98"
      ]
     },
     "execution_count": 35,
     "metadata": {},
     "output_type": "execute_result"
    }
   ],
   "source": [
    "n = len(fullyVaccineRate)\n",
    "n"
   ]
  },
  {
   "cell_type": "code",
   "execution_count": 36,
   "id": "566108a2",
   "metadata": {},
   "outputs": [],
   "source": [
    "    for i in range(n-1):\n",
    "        for j in range(0, n-i-1):\n",
    "            if fullyVaccineRate[j] > fullyVaccineRate[j + 1] :\n",
    "                fullyVaccineRate[j], fullyVaccineRate[j + 1] = fullyVaccineRate[j + 1], fullyVaccineRate[j]\n",
    " "
   ]
  },
  {
   "cell_type": "code",
   "execution_count": 37,
   "id": "34492c76",
   "metadata": {},
   "outputs": [],
   "source": [
    "lowFullyVaccineRate = []\n",
    "g = n-1\n",
    "for i in range( g-10 , g):\n",
    "    lowFullyVaccineRate.append(fullyVaccineRate[i])\n"
   ]
  },
  {
   "cell_type": "code",
   "execution_count": 38,
   "id": "d56f6a0e",
   "metadata": {},
   "outputs": [
    {
     "data": {
      "text/plain": [
       "([<matplotlib.patches.Wedge at 0x2233366aa30>,\n",
       "  <matplotlib.patches.Wedge at 0x2233366af70>,\n",
       "  <matplotlib.patches.Wedge at 0x2233367f370>,\n",
       "  <matplotlib.patches.Wedge at 0x2233367f850>,\n",
       "  <matplotlib.patches.Wedge at 0x2233367fd60>,\n",
       "  <matplotlib.patches.Wedge at 0x2233368a280>,\n",
       "  <matplotlib.patches.Wedge at 0x2233368a760>,\n",
       "  <matplotlib.patches.Wedge at 0x2233368ab20>,\n",
       "  <matplotlib.patches.Wedge at 0x2233368afd0>,\n",
       "  <matplotlib.patches.Wedge at 0x22333697520>],\n",
       " [Text(1.0527084537659623, 0.3190688191749187, ''),\n",
       "  Text(0.6979486802398562, 0.8502162311738368, ''),\n",
       "  Text(0.09995027426452896, 1.0954496531901619, ''),\n",
       "  Text(-0.5396289078018831, 0.958540892119135, ''),\n",
       "  Text(-0.9891978541697312, 0.4811315883477196, ''),\n",
       "  Text(-1.0846739724520362, -0.18298189387237077, ''),\n",
       "  Text(-0.7604347915490582, -0.7948200600146806, ''),\n",
       "  Text(-0.11731674422928796, -1.0937260998638736, ''),\n",
       "  Text(0.5833186105493461, -0.9325981978251836, ''),\n",
       "  Text(1.0372501789597202, -0.3662131431939991, '')])"
      ]
     },
     "execution_count": 38,
     "metadata": {},
     "output_type": "execute_result"
    },
    {
     "data": {
      "image/png": "[encoded data removed]",
      "text/plain": [
       "<Figure size 432x288 with 1 Axes>"
      ]
     },
     "metadata": {},
     "output_type": "display_data"
    }
   ],
   "source": [
    "plt.pie(lowFullyVaccineRate)"
   ]
  },
  {
   "cell_type": "code",
   "execution_count": 39,
   "id": "3dbc2678",
   "metadata": {},
   "outputs": [
    {
     "name": "stdout",
     "output_type": "stream",
     "text": [
      "[0.0, 0.0, 0.0, 0.0, 0.0, 0.0, 0.0, 0.0, 0.0, 0.0, 0.0, 0.0, 0.0, 0.0, 0.0, 0.0, 0.0, 0.0, 0.0749137382298082, 0.4795135932060697, 0.9147106188932758, 2.986538257676186, 5.3615332339989905, 10.006914808166458, 10.749059856969529, 12.812021930129356, 14.33342230553883, 14.810002014886802, 15.095051299427508, 15.854310184152926, 16.529463958315546, 16.825833916318118, 28.941870513613747, 29.721509920388943, 31.02891789033357, 31.324758074962514, 31.39566000372383, 33.184975445737294, 33.903536022042736, 38.768599747048476, 41.02006318239761, 41.72594984778627, 41.75805265908248, 45.34874014632226, 46.90563087772455, 47.36351992438732, 51.18432263561488, 51.232417279871854, 52.1421024093873, 52.50084883965216, 53.407806713282234, 53.53865364752083, 53.56071549225901, 54.68842678353423, 56.94704664234296, 57.58240322818404, 59.630088108934686, 62.11712989222916, 63.13388429752066, 63.41696423450861, 63.863612777147914, 63.9947758499862, 64.10719479286314, 64.72178812607619, 65.29704237676756, 65.32914013960267, 65.74861612042997, 67.70415699514666, 68.76882131888506, 69.83900010592099, 72.0187945379769, 72.60128194080585, 72.67483881583604, 72.76917823810608, 72.82046317396423, 72.86696931986808, 73.31084106780354, 73.69355045518657, 74.47582268561932, 74.48141467499839, 74.92596078513075, 75.17328233592984, 76.00064153040667, 76.36496615847454, 77.66488238260509, 78.16261121800663, 78.49465281242543, 79.437544631088, 79.58864701658125, 81.3881260052265, 81.57656354340442, 81.82502101030505, 85.4816670642549, 87.3743560635045, 89.81623507473908, 89.90064313799625, 91.61329190183271, 121.52503635985872]\n"
     ]
    }
   ],
   "source": [
    "print(fullyVaccineRate)"
   ]
  },
  {
   "cell_type": "code",
   "execution_count": 40,
   "id": "20aabc71",
   "metadata": {},
   "outputs": [
    {
     "name": "stdout",
     "output_type": "stream",
     "text": [
      "0      10.75\n",
      "1      12.81\n",
      "2      41.73\n",
      "3       0.00\n",
      "4       0.00\n",
      "       ...  \n",
      "226    57.68\n",
      "227    56.10\n",
      "228     1.26\n",
      "229    10.48\n",
      "230    22.61\n",
      "Name: people_fully_vaccinated_per_hundred, Length: 231, dtype: float64\n"
     ]
    }
   ],
   "source": [
    "print(df['people_fully_vaccinated_per_hundred'])"
   ]
  },
  {
   "cell_type": "code",
   "execution_count": 41,
   "id": "398fdccd",
   "metadata": {},
   "outputs": [],
   "source": [
    "fullyVaccineRatePer100 = []\n",
    "f = 0\n",
    "for x in myvar:\n",
    "    fullyVaccineRatePer100.append(df['people_fully_vaccinated_per_hundred'].values[f])\n",
    "    f = f+1"
   ]
  },
  {
   "cell_type": "code",
   "execution_count": 42,
   "id": "bcb12786",
   "metadata": {},
   "outputs": [
    {
     "data": {
      "text/plain": [
       "231"
      ]
     },
     "execution_count": 42,
     "metadata": {},
     "output_type": "execute_result"
    }
   ],
   "source": [
    "ln = len(fullyVaccineRatePer100)\n",
    "ln"
   ]
  },
  {
   "cell_type": "code",
   "execution_count": 43,
   "id": "15667e3e",
   "metadata": {},
   "outputs": [
    {
     "name": "stdout",
     "output_type": "stream",
     "text": [
      "[10.75, 12.81, 41.73, 0.0, 0.0, 16.53, 63.13, 62.12, 79.44, 31.03, 75.17, 65.3, 79.59, 72.67, 46.91, 38.77, 0.0, 52.5, 52.14, 0.0, 78.16, 51.18, 0.0, 74.48, 73.69, 47.36, 0.0, 0.0, 51.23, 72.87, 56.95, 91.61, 29.72, 5.36, 0.07, 81.83, 2.99, 81.39, 53.41, 89.82, 15.85, 0.0, 89.9, 85.48, 65.75, 33.9, 0.0, 72.77, 74.48, 14.81, 54.69, 87.37, 59.63, 72.02, 63.86, 0.48, 81.58, 10.01, 41.02, 53.54, 76.0, 28.94, 65.33, 14.33, 0.0, 63.42, 0.0, 0.0, 64.72, 72.6, 0.0, 0.0, 68.77, 76.36, 77.66, 63.99, 0.0, 0.0, 31.4, 74.93, 15.1, 121.53, 72.82, 67.7, 33.18, 31.32, 0.0, 0.0, 16.83, 41.76, 0.91, 73.31, 45.35, 69.84, 64.11, 78.49, 57.58, 53.56, 0.0, 65.65, 16.74, 79.94, 78.09, 65.9, 78.88, 22.09, 79.61, 78.1, 42.7, 47.44, 13.95, 41.54, 45.88, 75.71, 17.86, 59.09, 69.63, 32.07, 33.7, 0.0, 15.83, 68.89, 69.55, 7.31, 47.31, 0.0, 75.21, 3.48, 4.18, 78.6, 68.29, 4.23, 89.91, 0.0, 21.85, 0.0, 60.73, 0.0, 25.95, 0.0, 65.28, 44.67, 35.11, 62.42, 35.68, 38.82, 14.45, 60.13, 71.95, 62.27, 77.45, 59.94, 4.18, 4.0, 61.83, 0.0, 73.59, 60.61, 57.52, 44.61, 0.0, 32.86, 58.82, 2.74, 44.57, 73.27, 56.82, 58.87, 92.57, 0.0, 42.19, 49.43, 58.81, 0.0, 49.11, 28.15, 0.0, 26.43, 0.0, 0.0, 34.91, 0.0, 6.0, 47.52, 80.8, 11.85, 90.46, 59.53, 50.53, 58.64, 14.25, 5.73, 29.02, 70.83, 86.54, 0.0, 83.65, 66.1, 0.0, 39.9, 74.74, 68.71, 6.94, 75.59, 0.0, 4.06, 71.1, 42.67, 13.51, 65.83, 50.18, 53.09, 62.16, 74.34, 16.3, 35.02, 95.33, 72.0, 64.88, 75.71, 78.38, 0.0, 27.09, 0.0, 49.77, 78.9, 57.68, 56.1, 1.26, 10.48, 22.61]\n"
     ]
    }
   ],
   "source": [
    "print(fullyVaccineRatePer100)"
   ]
  },
  {
   "cell_type": "code",
   "execution_count": 44,
   "id": "7ed4ebac",
   "metadata": {},
   "outputs": [
    {
     "name": "stdout",
     "output_type": "stream",
     "text": [
      "Burundi\n",
      "Cameroon\n",
      "Democratic Republic of Congo\n",
      "Haiti\n",
      "Madagascar\n",
      "Malawi\n",
      "Mali\n",
      "Niger\n",
      "Nigeria\n",
      "Papua New Guinea\n",
      "Tanzania\n",
      "Yemen\n"
     ]
    }
   ],
   "source": [
    "c = 0\n",
    "for x in myvar:\n",
    "    if fullyVaccineRatePer100[c] < 5 and fullyVaccineRatePer100[c] > 0 :\n",
    "        print(df['location'].values[c])\n",
    "    c = c + 1 "
   ]
  },
  {
   "cell_type": "code",
   "execution_count": 45,
   "id": "ccc12549",
   "metadata": {},
   "outputs": [],
   "source": [
    "for i in range(ln-1):\n",
    "        for j in range(0, ln-i-1):\n",
    "            if fullyVaccineRatePer100[j] > fullyVaccineRatePer100[j+1] :\n",
    "                fullyVaccineRatePer100[j], fullyVaccineRatePer100[j+1] = fullyVaccineRatePer100[j+1], fullyVaccineRatePer100[j]\n",
    " "
   ]
  },
  {
   "cell_type": "code",
   "execution_count": 46,
   "id": "021f7a97",
   "metadata": {},
   "outputs": [
    {
     "name": "stdout",
     "output_type": "stream",
     "text": [
      "[0.0, 0.0, 0.0, 0.0, 0.0, 0.0, 0.0, 0.0, 0.0, 0.0, 0.0, 0.0, 0.0, 0.0, 0.0, 0.0, 0.0, 0.0, 0.0, 0.0, 0.0, 0.0, 0.0, 0.0, 0.0, 0.0, 0.0, 0.0, 0.0, 0.0, 0.0, 0.0, 0.0, 0.0, 0.0, 0.0, 0.0, 0.0, 0.07, 0.48, 0.91, 1.26, 2.74, 2.99, 3.48, 4.0, 4.06, 4.18, 4.18, 4.23, 5.36, 5.73, 6.0, 6.94, 7.31, 10.01, 10.48, 10.75, 11.85, 12.81, 13.51, 13.95, 14.25, 14.33, 14.45, 14.81, 15.1, 15.83, 15.85, 16.3, 16.53, 16.74, 16.83, 17.86, 21.85, 22.09, 22.61, 25.95, 26.43, 27.09, 28.15, 28.94, 29.02, 29.72, 31.03, 31.32, 31.4, 32.07, 32.86, 33.18, 33.7, 33.9, 34.91, 35.02, 35.11, 35.68, 38.77, 38.82, 39.9, 41.02, 41.54, 41.73, 41.76, 42.19, 42.67, 42.7, 44.57, 44.61, 44.67, 45.35, 45.88, 46.91, 47.31, 47.36, 47.44, 47.52, 49.11, 49.43, 49.77, 50.18, 50.53, 51.18, 51.23, 52.14, 52.5, 53.09, 53.41, 53.54, 53.56, 54.69, 56.1, 56.82, 56.95, 57.52, 57.58, 57.68, 58.64, 58.81, 58.82, 58.87, 59.09, 59.53, 59.63, 59.94, 60.13, 60.61, 60.73, 61.83, 62.12, 62.16, 62.27, 62.42, 63.13, 63.42, 63.86, 63.99, 64.11, 64.72, 64.88, 65.28, 65.3, 65.33, 65.65, 65.75, 65.83, 65.9, 66.1, 67.7, 68.29, 68.71, 68.77, 68.89, 69.55, 69.63, 69.84, 70.83, 71.1, 71.95, 72.0, 72.02, 72.6, 72.67, 72.77, 72.82, 72.87, 73.27, 73.31, 73.59, 73.69, 74.34, 74.48, 74.48, 74.74, 74.93, 75.17, 75.21, 75.59, 75.71, 75.71, 76.0, 76.36, 77.45, 77.66, 78.09, 78.1, 78.16, 78.38, 78.49, 78.6, 78.88, 78.9, 79.44, 79.59, 79.61, 79.94, 80.8, 81.39, 81.58, 81.83, 83.65, 85.48, 86.54, 87.37, 89.82, 89.9, 89.91, 90.46, 91.61, 92.57, 95.33, 121.53]\n"
     ]
    }
   ],
   "source": [
    "print(fullyVaccineRatePer100)"
   ]
  },
  {
   "cell_type": "code",
   "execution_count": null,
   "id": "935bf557",
   "metadata": {},
   "outputs": [],
   "source": []
  },
  {
   "cell_type": "code",
   "execution_count": null,
   "id": "4c775f60",
   "metadata": {},
   "outputs": [],
   "source": []
  }
 ],
 "metadata": {
  "kernelspec": {
   "display_name": "Python 3 (ipykernel)",
   "language": "python",
   "name": "python3"
  },
  "language_info": {
   "codemirror_mode": {
    "name": "ipython",
    "version": 3
   },
   "file_extension": ".py",
   "mimetype": "text/x-python",
   "name": "python",
   "nbconvert_exporter": "python",
   "pygments_lexer": "ipython3",
   "version": "3.9.7"
  }
 },
 "nbformat": 4,
 "nbformat_minor": 5
}
